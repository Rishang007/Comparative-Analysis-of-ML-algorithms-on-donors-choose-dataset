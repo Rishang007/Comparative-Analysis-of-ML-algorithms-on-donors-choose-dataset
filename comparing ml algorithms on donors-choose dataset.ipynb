{
  "nbformat": 4,
  "nbformat_minor": 0,
  "metadata": {
    "colab": {
      "name": "Untitled0.ipynb",
      "provenance": []
    },
    "kernelspec": {
      "name": "python3",
      "display_name": "Python 3"
    },
    "accelerator": "GPU",
    "widgets": {
      "application/vnd.jupyter.widget-state+json": {
        "28311310ab9341c1a74925261cf4a358": {
          "model_module": "@jupyter-widgets/controls",
          "model_name": "HBoxModel",
          "state": {
            "_view_name": "HBoxView",
            "_dom_classes": [],
            "_model_name": "HBoxModel",
            "_view_module": "@jupyter-widgets/controls",
            "_model_module_version": "1.5.0",
            "_view_count": null,
            "_view_module_version": "1.5.0",
            "box_style": "",
            "layout": "IPY_MODEL_29ca558e5c51487281df5d6c6e33ea7b",
            "_model_module": "@jupyter-widgets/controls",
            "children": [
              "IPY_MODEL_5500be3557b14f2283a88af1ed4dece9",
              "IPY_MODEL_d531631e64ca420ea4d0bc51eb4a8464"
            ]
          }
        },
        "29ca558e5c51487281df5d6c6e33ea7b": {
          "model_module": "@jupyter-widgets/base",
          "model_name": "LayoutModel",
          "state": {
            "_view_name": "LayoutView",
            "grid_template_rows": null,
            "right": null,
            "justify_content": null,
            "_view_module": "@jupyter-widgets/base",
            "overflow": null,
            "_model_module_version": "1.2.0",
            "_view_count": null,
            "flex_flow": null,
            "width": null,
            "min_width": null,
            "border": null,
            "align_items": null,
            "bottom": null,
            "_model_module": "@jupyter-widgets/base",
            "top": null,
            "grid_column": null,
            "overflow_y": null,
            "overflow_x": null,
            "grid_auto_flow": null,
            "grid_area": null,
            "grid_template_columns": null,
            "flex": null,
            "_model_name": "LayoutModel",
            "justify_items": null,
            "grid_row": null,
            "max_height": null,
            "align_content": null,
            "visibility": null,
            "align_self": null,
            "height": null,
            "min_height": null,
            "padding": null,
            "grid_auto_rows": null,
            "grid_gap": null,
            "max_width": null,
            "order": null,
            "_view_module_version": "1.2.0",
            "grid_template_areas": null,
            "object_position": null,
            "object_fit": null,
            "grid_auto_columns": null,
            "margin": null,
            "display": null,
            "left": null
          }
        },
        "5500be3557b14f2283a88af1ed4dece9": {
          "model_module": "@jupyter-widgets/controls",
          "model_name": "FloatProgressModel",
          "state": {
            "_view_name": "ProgressView",
            "style": "IPY_MODEL_c1e49fb650e04622b42fb4778f575889",
            "_dom_classes": [],
            "description": "100%",
            "_model_name": "FloatProgressModel",
            "bar_style": "success",
            "max": 109248,
            "_view_module": "@jupyter-widgets/controls",
            "_model_module_version": "1.5.0",
            "value": 109248,
            "_view_count": null,
            "_view_module_version": "1.5.0",
            "orientation": "horizontal",
            "min": 0,
            "description_tooltip": null,
            "_model_module": "@jupyter-widgets/controls",
            "layout": "IPY_MODEL_bbad2790c7d54c4a861c059e5c23a9f9"
          }
        },
        "d531631e64ca420ea4d0bc51eb4a8464": {
          "model_module": "@jupyter-widgets/controls",
          "model_name": "HTMLModel",
          "state": {
            "_view_name": "HTMLView",
            "style": "IPY_MODEL_7ccece260c834f1ca8fafd201046c7aa",
            "_dom_classes": [],
            "description": "",
            "_model_name": "HTMLModel",
            "placeholder": "​",
            "_view_module": "@jupyter-widgets/controls",
            "_model_module_version": "1.5.0",
            "value": " 109248/109248 [03:27&lt;00:00, 525.49it/s]",
            "_view_count": null,
            "_view_module_version": "1.5.0",
            "description_tooltip": null,
            "_model_module": "@jupyter-widgets/controls",
            "layout": "IPY_MODEL_e479118ec2b7499993fc8699627da9dc"
          }
        },
        "c1e49fb650e04622b42fb4778f575889": {
          "model_module": "@jupyter-widgets/controls",
          "model_name": "ProgressStyleModel",
          "state": {
            "_view_name": "StyleView",
            "_model_name": "ProgressStyleModel",
            "description_width": "initial",
            "_view_module": "@jupyter-widgets/base",
            "_model_module_version": "1.5.0",
            "_view_count": null,
            "_view_module_version": "1.2.0",
            "bar_color": null,
            "_model_module": "@jupyter-widgets/controls"
          }
        },
        "bbad2790c7d54c4a861c059e5c23a9f9": {
          "model_module": "@jupyter-widgets/base",
          "model_name": "LayoutModel",
          "state": {
            "_view_name": "LayoutView",
            "grid_template_rows": null,
            "right": null,
            "justify_content": null,
            "_view_module": "@jupyter-widgets/base",
            "overflow": null,
            "_model_module_version": "1.2.0",
            "_view_count": null,
            "flex_flow": null,
            "width": null,
            "min_width": null,
            "border": null,
            "align_items": null,
            "bottom": null,
            "_model_module": "@jupyter-widgets/base",
            "top": null,
            "grid_column": null,
            "overflow_y": null,
            "overflow_x": null,
            "grid_auto_flow": null,
            "grid_area": null,
            "grid_template_columns": null,
            "flex": null,
            "_model_name": "LayoutModel",
            "justify_items": null,
            "grid_row": null,
            "max_height": null,
            "align_content": null,
            "visibility": null,
            "align_self": null,
            "height": null,
            "min_height": null,
            "padding": null,
            "grid_auto_rows": null,
            "grid_gap": null,
            "max_width": null,
            "order": null,
            "_view_module_version": "1.2.0",
            "grid_template_areas": null,
            "object_position": null,
            "object_fit": null,
            "grid_auto_columns": null,
            "margin": null,
            "display": null,
            "left": null
          }
        },
        "7ccece260c834f1ca8fafd201046c7aa": {
          "model_module": "@jupyter-widgets/controls",
          "model_name": "DescriptionStyleModel",
          "state": {
            "_view_name": "StyleView",
            "_model_name": "DescriptionStyleModel",
            "description_width": "",
            "_view_module": "@jupyter-widgets/base",
            "_model_module_version": "1.5.0",
            "_view_count": null,
            "_view_module_version": "1.2.0",
            "_model_module": "@jupyter-widgets/controls"
          }
        },
        "e479118ec2b7499993fc8699627da9dc": {
          "model_module": "@jupyter-widgets/base",
          "model_name": "LayoutModel",
          "state": {
            "_view_name": "LayoutView",
            "grid_template_rows": null,
            "right": null,
            "justify_content": null,
            "_view_module": "@jupyter-widgets/base",
            "overflow": null,
            "_model_module_version": "1.2.0",
            "_view_count": null,
            "flex_flow": null,
            "width": null,
            "min_width": null,
            "border": null,
            "align_items": null,
            "bottom": null,
            "_model_module": "@jupyter-widgets/base",
            "top": null,
            "grid_column": null,
            "overflow_y": null,
            "overflow_x": null,
            "grid_auto_flow": null,
            "grid_area": null,
            "grid_template_columns": null,
            "flex": null,
            "_model_name": "LayoutModel",
            "justify_items": null,
            "grid_row": null,
            "max_height": null,
            "align_content": null,
            "visibility": null,
            "align_self": null,
            "height": null,
            "min_height": null,
            "padding": null,
            "grid_auto_rows": null,
            "grid_gap": null,
            "max_width": null,
            "order": null,
            "_view_module_version": "1.2.0",
            "grid_template_areas": null,
            "object_position": null,
            "object_fit": null,
            "grid_auto_columns": null,
            "margin": null,
            "display": null,
            "left": null
          }
        },
        "97d06b102aa3426185748514d1732022": {
          "model_module": "@jupyter-widgets/controls",
          "model_name": "HBoxModel",
          "state": {
            "_view_name": "HBoxView",
            "_dom_classes": [],
            "_model_name": "HBoxModel",
            "_view_module": "@jupyter-widgets/controls",
            "_model_module_version": "1.5.0",
            "_view_count": null,
            "_view_module_version": "1.5.0",
            "box_style": "",
            "layout": "IPY_MODEL_0cb5aacf88464430a56477f6a5149ddf",
            "_model_module": "@jupyter-widgets/controls",
            "children": [
              "IPY_MODEL_c9e5fbe8fb6247c5b136fe1a4032f4ca",
              "IPY_MODEL_ea8384c40f3d494f86f97ce207403237"
            ]
          }
        },
        "0cb5aacf88464430a56477f6a5149ddf": {
          "model_module": "@jupyter-widgets/base",
          "model_name": "LayoutModel",
          "state": {
            "_view_name": "LayoutView",
            "grid_template_rows": null,
            "right": null,
            "justify_content": null,
            "_view_module": "@jupyter-widgets/base",
            "overflow": null,
            "_model_module_version": "1.2.0",
            "_view_count": null,
            "flex_flow": null,
            "width": null,
            "min_width": null,
            "border": null,
            "align_items": null,
            "bottom": null,
            "_model_module": "@jupyter-widgets/base",
            "top": null,
            "grid_column": null,
            "overflow_y": null,
            "overflow_x": null,
            "grid_auto_flow": null,
            "grid_area": null,
            "grid_template_columns": null,
            "flex": null,
            "_model_name": "LayoutModel",
            "justify_items": null,
            "grid_row": null,
            "max_height": null,
            "align_content": null,
            "visibility": null,
            "align_self": null,
            "height": null,
            "min_height": null,
            "padding": null,
            "grid_auto_rows": null,
            "grid_gap": null,
            "max_width": null,
            "order": null,
            "_view_module_version": "1.2.0",
            "grid_template_areas": null,
            "object_position": null,
            "object_fit": null,
            "grid_auto_columns": null,
            "margin": null,
            "display": null,
            "left": null
          }
        },
        "c9e5fbe8fb6247c5b136fe1a4032f4ca": {
          "model_module": "@jupyter-widgets/controls",
          "model_name": "FloatProgressModel",
          "state": {
            "_view_name": "ProgressView",
            "style": "IPY_MODEL_01c822ddc0784696ae381a91b37558d9",
            "_dom_classes": [],
            "description": "100%",
            "_model_name": "FloatProgressModel",
            "bar_style": "success",
            "max": 109248,
            "_view_module": "@jupyter-widgets/controls",
            "_model_module_version": "1.5.0",
            "value": 109248,
            "_view_count": null,
            "_view_module_version": "1.5.0",
            "orientation": "horizontal",
            "min": 0,
            "description_tooltip": null,
            "_model_module": "@jupyter-widgets/controls",
            "layout": "IPY_MODEL_8000df75bba5403eba2e80c3be9d2a0a"
          }
        },
        "ea8384c40f3d494f86f97ce207403237": {
          "model_module": "@jupyter-widgets/controls",
          "model_name": "HTMLModel",
          "state": {
            "_view_name": "HTMLView",
            "style": "IPY_MODEL_aac8747f23904d1eae0f63a1bc29568b",
            "_dom_classes": [],
            "description": "",
            "_model_name": "HTMLModel",
            "placeholder": "​",
            "_view_module": "@jupyter-widgets/controls",
            "_model_module_version": "1.5.0",
            "value": " 109248/109248 [01:28&lt;00:00, 1238.62it/s]",
            "_view_count": null,
            "_view_module_version": "1.5.0",
            "description_tooltip": null,
            "_model_module": "@jupyter-widgets/controls",
            "layout": "IPY_MODEL_dbd599b9009e49a28d8ca70b0f155142"
          }
        },
        "01c822ddc0784696ae381a91b37558d9": {
          "model_module": "@jupyter-widgets/controls",
          "model_name": "ProgressStyleModel",
          "state": {
            "_view_name": "StyleView",
            "_model_name": "ProgressStyleModel",
            "description_width": "initial",
            "_view_module": "@jupyter-widgets/base",
            "_model_module_version": "1.5.0",
            "_view_count": null,
            "_view_module_version": "1.2.0",
            "bar_color": null,
            "_model_module": "@jupyter-widgets/controls"
          }
        },
        "8000df75bba5403eba2e80c3be9d2a0a": {
          "model_module": "@jupyter-widgets/base",
          "model_name": "LayoutModel",
          "state": {
            "_view_name": "LayoutView",
            "grid_template_rows": null,
            "right": null,
            "justify_content": null,
            "_view_module": "@jupyter-widgets/base",
            "overflow": null,
            "_model_module_version": "1.2.0",
            "_view_count": null,
            "flex_flow": null,
            "width": null,
            "min_width": null,
            "border": null,
            "align_items": null,
            "bottom": null,
            "_model_module": "@jupyter-widgets/base",
            "top": null,
            "grid_column": null,
            "overflow_y": null,
            "overflow_x": null,
            "grid_auto_flow": null,
            "grid_area": null,
            "grid_template_columns": null,
            "flex": null,
            "_model_name": "LayoutModel",
            "justify_items": null,
            "grid_row": null,
            "max_height": null,
            "align_content": null,
            "visibility": null,
            "align_self": null,
            "height": null,
            "min_height": null,
            "padding": null,
            "grid_auto_rows": null,
            "grid_gap": null,
            "max_width": null,
            "order": null,
            "_view_module_version": "1.2.0",
            "grid_template_areas": null,
            "object_position": null,
            "object_fit": null,
            "grid_auto_columns": null,
            "margin": null,
            "display": null,
            "left": null
          }
        },
        "aac8747f23904d1eae0f63a1bc29568b": {
          "model_module": "@jupyter-widgets/controls",
          "model_name": "DescriptionStyleModel",
          "state": {
            "_view_name": "StyleView",
            "_model_name": "DescriptionStyleModel",
            "description_width": "",
            "_view_module": "@jupyter-widgets/base",
            "_model_module_version": "1.5.0",
            "_view_count": null,
            "_view_module_version": "1.2.0",
            "_model_module": "@jupyter-widgets/controls"
          }
        },
        "dbd599b9009e49a28d8ca70b0f155142": {
          "model_module": "@jupyter-widgets/base",
          "model_name": "LayoutModel",
          "state": {
            "_view_name": "LayoutView",
            "grid_template_rows": null,
            "right": null,
            "justify_content": null,
            "_view_module": "@jupyter-widgets/base",
            "overflow": null,
            "_model_module_version": "1.2.0",
            "_view_count": null,
            "flex_flow": null,
            "width": null,
            "min_width": null,
            "border": null,
            "align_items": null,
            "bottom": null,
            "_model_module": "@jupyter-widgets/base",
            "top": null,
            "grid_column": null,
            "overflow_y": null,
            "overflow_x": null,
            "grid_auto_flow": null,
            "grid_area": null,
            "grid_template_columns": null,
            "flex": null,
            "_model_name": "LayoutModel",
            "justify_items": null,
            "grid_row": null,
            "max_height": null,
            "align_content": null,
            "visibility": null,
            "align_self": null,
            "height": null,
            "min_height": null,
            "padding": null,
            "grid_auto_rows": null,
            "grid_gap": null,
            "max_width": null,
            "order": null,
            "_view_module_version": "1.2.0",
            "grid_template_areas": null,
            "object_position": null,
            "object_fit": null,
            "grid_auto_columns": null,
            "margin": null,
            "display": null,
            "left": null
          }
        }
      }
    }
  },
  "cells": [
    {
      "cell_type": "markdown",
      "metadata": {
        "id": "U6-GUG1E7gfy",
        "colab_type": "text"
      },
      "source": [
        "<font size=6> Comparative Analysis of ML algorithms on donors-choose dataset"
      ]
    },
    {
      "cell_type": "code",
      "metadata": {
        "colab_type": "code",
        "id": "rH0U3oKVtv9g",
        "colab": {}
      },
      "source": [
        "%matplotlib inline\n",
        "import warnings\n",
        "warnings.filterwarnings(\"ignore\")\n",
        "\n",
        "import pandas as pd\n",
        "import numpy as np\n",
        "import nltk\n",
        "import matplotlib.pyplot as plt\n",
        "import seaborn as sns\n",
        "from sklearn.feature_extraction.text import TfidfVectorizer\n",
        "from sklearn.feature_extraction.text import CountVectorizer\n",
        "from sklearn.metrics import confusion_matrix\n",
        "from sklearn import metrics\n",
        "from sklearn.metrics import roc_curve, auc\n",
        "\n",
        "import re\n",
        "\n",
        "import pickle\n",
        "from tqdm import tqdm_notebook as tqdm\n",
        "import os\n"
      ],
      "execution_count": 1,
      "outputs": []
    },
    {
      "cell_type": "markdown",
      "metadata": {
        "colab_type": "text",
        "id": "7e3gC8wEyO3e"
      },
      "source": [
        "## Loading the data"
      ]
    },
    {
      "cell_type": "code",
      "metadata": {
        "colab_type": "code",
        "id": "SOWjSLzKcrq9",
        "colab": {
          "base_uri": "https://localhost:8080/",
          "height": 515
        },
        "outputId": "4fe5c117-139c-47a7-a208-17a889a8922b"
      },
      "source": [
        "donor = pd.read_csv('Donor Choose/train_data.csv')\n",
        "donor.head()"
      ],
      "execution_count": 4,
      "outputs": [
        {
          "output_type": "execute_result",
          "data": {
            "text/html": [
              "<div>\n",
              "<style scoped>\n",
              "    .dataframe tbody tr th:only-of-type {\n",
              "        vertical-align: middle;\n",
              "    }\n",
              "\n",
              "    .dataframe tbody tr th {\n",
              "        vertical-align: top;\n",
              "    }\n",
              "\n",
              "    .dataframe thead th {\n",
              "        text-align: right;\n",
              "    }\n",
              "</style>\n",
              "<table border=\"1\" class=\"dataframe\">\n",
              "  <thead>\n",
              "    <tr style=\"text-align: right;\">\n",
              "      <th></th>\n",
              "      <th>Unnamed: 0</th>\n",
              "      <th>id</th>\n",
              "      <th>teacher_id</th>\n",
              "      <th>teacher_prefix</th>\n",
              "      <th>school_state</th>\n",
              "      <th>project_submitted_datetime</th>\n",
              "      <th>project_grade_category</th>\n",
              "      <th>project_subject_categories</th>\n",
              "      <th>project_subject_subcategories</th>\n",
              "      <th>project_title</th>\n",
              "      <th>project_essay_1</th>\n",
              "      <th>project_essay_2</th>\n",
              "      <th>project_essay_3</th>\n",
              "      <th>project_essay_4</th>\n",
              "      <th>project_resource_summary</th>\n",
              "      <th>teacher_number_of_previously_posted_projects</th>\n",
              "      <th>project_is_approved</th>\n",
              "    </tr>\n",
              "  </thead>\n",
              "  <tbody>\n",
              "    <tr>\n",
              "      <th>0</th>\n",
              "      <td>160221</td>\n",
              "      <td>p253737</td>\n",
              "      <td>c90749f5d961ff158d4b4d1e7dc665fc</td>\n",
              "      <td>Mrs.</td>\n",
              "      <td>IN</td>\n",
              "      <td>2016-12-05 13:43:57</td>\n",
              "      <td>Grades PreK-2</td>\n",
              "      <td>Literacy &amp; Language</td>\n",
              "      <td>ESL, Literacy</td>\n",
              "      <td>Educational Support for English Learners at Home</td>\n",
              "      <td>My students are English learners that are work...</td>\n",
              "      <td>\\\"The limits of your language are the limits o...</td>\n",
              "      <td>NaN</td>\n",
              "      <td>NaN</td>\n",
              "      <td>My students need opportunities to practice beg...</td>\n",
              "      <td>0</td>\n",
              "      <td>0</td>\n",
              "    </tr>\n",
              "    <tr>\n",
              "      <th>1</th>\n",
              "      <td>140945</td>\n",
              "      <td>p258326</td>\n",
              "      <td>897464ce9ddc600bced1151f324dd63a</td>\n",
              "      <td>Mr.</td>\n",
              "      <td>FL</td>\n",
              "      <td>2016-10-25 09:22:10</td>\n",
              "      <td>Grades 6-8</td>\n",
              "      <td>History &amp; Civics, Health &amp; Sports</td>\n",
              "      <td>Civics &amp; Government, Team Sports</td>\n",
              "      <td>Wanted: Projector for Hungry Learners</td>\n",
              "      <td>Our students arrive to our school eager to lea...</td>\n",
              "      <td>The projector we need for our school is very c...</td>\n",
              "      <td>NaN</td>\n",
              "      <td>NaN</td>\n",
              "      <td>My students need a projector to help with view...</td>\n",
              "      <td>7</td>\n",
              "      <td>1</td>\n",
              "    </tr>\n",
              "    <tr>\n",
              "      <th>2</th>\n",
              "      <td>21895</td>\n",
              "      <td>p182444</td>\n",
              "      <td>3465aaf82da834c0582ebd0ef8040ca0</td>\n",
              "      <td>Ms.</td>\n",
              "      <td>AZ</td>\n",
              "      <td>2016-08-31 12:03:56</td>\n",
              "      <td>Grades 6-8</td>\n",
              "      <td>Health &amp; Sports</td>\n",
              "      <td>Health &amp; Wellness, Team Sports</td>\n",
              "      <td>Soccer Equipment for AWESOME Middle School Stu...</td>\n",
              "      <td>\\r\\n\\\"True champions aren't always the ones th...</td>\n",
              "      <td>The students on the campus come to school know...</td>\n",
              "      <td>NaN</td>\n",
              "      <td>NaN</td>\n",
              "      <td>My students need shine guards, athletic socks,...</td>\n",
              "      <td>1</td>\n",
              "      <td>0</td>\n",
              "    </tr>\n",
              "    <tr>\n",
              "      <th>3</th>\n",
              "      <td>45</td>\n",
              "      <td>p246581</td>\n",
              "      <td>f3cb9bffbba169bef1a77b243e620b60</td>\n",
              "      <td>Mrs.</td>\n",
              "      <td>KY</td>\n",
              "      <td>2016-10-06 21:16:17</td>\n",
              "      <td>Grades PreK-2</td>\n",
              "      <td>Literacy &amp; Language, Math &amp; Science</td>\n",
              "      <td>Literacy, Mathematics</td>\n",
              "      <td>Techie Kindergarteners</td>\n",
              "      <td>I work at a unique school filled with both ESL...</td>\n",
              "      <td>My students live in high poverty conditions wi...</td>\n",
              "      <td>NaN</td>\n",
              "      <td>NaN</td>\n",
              "      <td>My students need to engage in Reading and Math...</td>\n",
              "      <td>4</td>\n",
              "      <td>1</td>\n",
              "    </tr>\n",
              "    <tr>\n",
              "      <th>4</th>\n",
              "      <td>172407</td>\n",
              "      <td>p104768</td>\n",
              "      <td>be1f7507a41f8479dc06f047086a39ec</td>\n",
              "      <td>Mrs.</td>\n",
              "      <td>TX</td>\n",
              "      <td>2016-07-11 01:10:09</td>\n",
              "      <td>Grades PreK-2</td>\n",
              "      <td>Math &amp; Science</td>\n",
              "      <td>Mathematics</td>\n",
              "      <td>Interactive Math Tools</td>\n",
              "      <td>Our second grade classroom next year will be m...</td>\n",
              "      <td>For many students, math is a subject that does...</td>\n",
              "      <td>NaN</td>\n",
              "      <td>NaN</td>\n",
              "      <td>My students need hands on practice in mathemat...</td>\n",
              "      <td>1</td>\n",
              "      <td>1</td>\n",
              "    </tr>\n",
              "  </tbody>\n",
              "</table>\n",
              "</div>"
            ],
            "text/plain": [
              "   Unnamed: 0  ... project_is_approved\n",
              "0      160221  ...                   0\n",
              "1      140945  ...                   1\n",
              "2       21895  ...                   0\n",
              "3          45  ...                   1\n",
              "4      172407  ...                   1\n",
              "\n",
              "[5 rows x 17 columns]"
            ]
          },
          "metadata": {
            "tags": []
          },
          "execution_count": 4
        }
      ]
    },
    {
      "cell_type": "code",
      "metadata": {
        "colab_type": "code",
        "id": "gj_Cf1gF_PH0",
        "colab": {
          "base_uri": "https://localhost:8080/",
          "height": 202
        },
        "outputId": "6e425b6c-0f66-462b-cd29-413d6bca6d5b"
      },
      "source": [
        "resource = pd.read_csv('Donor Choose/resources.csv', ) \n",
        "resource.head()"
      ],
      "execution_count": 5,
      "outputs": [
        {
          "output_type": "execute_result",
          "data": {
            "text/html": [
              "<div>\n",
              "<style scoped>\n",
              "    .dataframe tbody tr th:only-of-type {\n",
              "        vertical-align: middle;\n",
              "    }\n",
              "\n",
              "    .dataframe tbody tr th {\n",
              "        vertical-align: top;\n",
              "    }\n",
              "\n",
              "    .dataframe thead th {\n",
              "        text-align: right;\n",
              "    }\n",
              "</style>\n",
              "<table border=\"1\" class=\"dataframe\">\n",
              "  <thead>\n",
              "    <tr style=\"text-align: right;\">\n",
              "      <th></th>\n",
              "      <th>id</th>\n",
              "      <th>description</th>\n",
              "      <th>quantity</th>\n",
              "      <th>price</th>\n",
              "    </tr>\n",
              "  </thead>\n",
              "  <tbody>\n",
              "    <tr>\n",
              "      <th>0</th>\n",
              "      <td>p233245</td>\n",
              "      <td>LC652 - Lakeshore Double-Space Mobile Drying Rack</td>\n",
              "      <td>1</td>\n",
              "      <td>149.00</td>\n",
              "    </tr>\n",
              "    <tr>\n",
              "      <th>1</th>\n",
              "      <td>p069063</td>\n",
              "      <td>Bouncy Bands for Desks (Blue support pipes)</td>\n",
              "      <td>3</td>\n",
              "      <td>14.95</td>\n",
              "    </tr>\n",
              "    <tr>\n",
              "      <th>2</th>\n",
              "      <td>p069063</td>\n",
              "      <td>Cory Stories: A Kid's Book About Living With Adhd</td>\n",
              "      <td>1</td>\n",
              "      <td>8.45</td>\n",
              "    </tr>\n",
              "    <tr>\n",
              "      <th>3</th>\n",
              "      <td>p069063</td>\n",
              "      <td>Dixon Ticonderoga Wood-Cased #2 HB Pencils, Bo...</td>\n",
              "      <td>2</td>\n",
              "      <td>13.59</td>\n",
              "    </tr>\n",
              "    <tr>\n",
              "      <th>4</th>\n",
              "      <td>p069063</td>\n",
              "      <td>EDUCATIONAL INSIGHTS FLUORESCENT LIGHT FILTERS...</td>\n",
              "      <td>3</td>\n",
              "      <td>24.95</td>\n",
              "    </tr>\n",
              "  </tbody>\n",
              "</table>\n",
              "</div>"
            ],
            "text/plain": [
              "        id                                        description  quantity   price\n",
              "0  p233245  LC652 - Lakeshore Double-Space Mobile Drying Rack         1  149.00\n",
              "1  p069063        Bouncy Bands for Desks (Blue support pipes)         3   14.95\n",
              "2  p069063  Cory Stories: A Kid's Book About Living With Adhd         1    8.45\n",
              "3  p069063  Dixon Ticonderoga Wood-Cased #2 HB Pencils, Bo...         2   13.59\n",
              "4  p069063  EDUCATIONAL INSIGHTS FLUORESCENT LIGHT FILTERS...         3   24.95"
            ]
          },
          "metadata": {
            "tags": []
          },
          "execution_count": 5
        }
      ]
    },
    {
      "cell_type": "markdown",
      "metadata": {
        "colab_type": "text",
        "id": "6DRueaR5199p"
      },
      "source": [
        "## Creating a function to process text"
      ]
    },
    {
      "cell_type": "code",
      "metadata": {
        "colab_type": "code",
        "id": "1No4HIqH2xGs",
        "colab": {}
      },
      "source": [
        "# https://stackoverflow.com/a/47091490/4084039\n",
        "import re\n",
        "\n",
        "def decontracted(phrase):\n",
        "    # specific\n",
        "    phrase = re.sub(r\"won't\", \"will not\", phrase)\n",
        "    phrase = re.sub(r\"can\\'t\", \"can not\", phrase)\n",
        "\n",
        "    # general\n",
        "    phrase = re.sub(r\"n\\'t\", \" not\", phrase)\n",
        "    phrase = re.sub(r\"\\'re\", \" are\", phrase)\n",
        "    phrase = re.sub(r\"\\'s\", \" is\", phrase)\n",
        "    phrase = re.sub(r\"\\'d\", \" would\", phrase)\n",
        "    phrase = re.sub(r\"\\'ll\", \" will\", phrase)\n",
        "    phrase = re.sub(r\"\\'t\", \" not\", phrase)\n",
        "    phrase = re.sub(r\"\\'ve\", \" have\", phrase)\n",
        "    phrase = re.sub(r\"\\'m\", \" am\", phrase)\n",
        "    return phrase"
      ],
      "execution_count": 6,
      "outputs": []
    },
    {
      "cell_type": "code",
      "metadata": {
        "colab_type": "code",
        "id": "Ud9ioa4H2dRJ",
        "colab": {}
      },
      "source": [
        "# we are removing the words from the stop words list: 'no', 'nor', 'not'\n",
        "stopwords= ['i', 'me', 'my', 'myself', 'we', 'our', 'ours', 'ourselves', 'you', \"you're\", \"you've\",\\\n",
        "            \"you'll\", \"you'd\", 'your', 'yours', 'yourself', 'yourselves', 'he', 'him', 'his', 'himself', \\\n",
        "            'she', \"she's\", 'her', 'hers', 'herself', 'it', \"it's\", 'its', 'itself', 'they', 'them', 'their',\\\n",
        "            'theirs', 'themselves', 'what', 'which', 'who', 'whom', 'this', 'that', \"that'll\", 'these', 'those', \\\n",
        "            'am', 'is', 'are', 'was', 'were', 'be', 'been', 'being', 'have', 'has', 'had', 'having', 'do', 'does', \\\n",
        "            'did', 'doing', 'a', 'an', 'the', 'and', 'but', 'if', 'or', 'because', 'as', 'until', 'while', 'of', \\\n",
        "            'at', 'by', 'for', 'with', 'about', 'against', 'between', 'into', 'through', 'during', 'before', 'after',\\\n",
        "            'above', 'below', 'to', 'from', 'up', 'down', 'in', 'out', 'on', 'off', 'over', 'under', 'again', 'further',\\\n",
        "            'then', 'once', 'here', 'there', 'when', 'where', 'why', 'how', 'all', 'any', 'both', 'each', 'few', 'more',\\\n",
        "            'most', 'other', 'some', 'such', 'only', 'own', 'same', 'so', 'than', 'too', 'very', \\\n",
        "            's', 't', 'can', 'will', 'just', 'don', \"don't\", 'should', \"should've\", 'now', 'd', 'll', 'm', 'o', 're', \\\n",
        "            've', 'y', 'ain', 'aren', \"aren't\", 'couldn', \"couldn't\", 'didn', \"didn't\", 'doesn', \"doesn't\", 'hadn',\\\n",
        "            \"hadn't\", 'hasn', \"hasn't\", 'haven', \"haven't\", 'isn', \"isn't\", 'ma', 'mightn', \"mightn't\", 'mustn',\\\n",
        "            \"mustn't\", 'needn', \"needn't\", 'shan', \"shan't\", 'shouldn', \"shouldn't\", 'wasn', \"wasn't\", 'weren', \"weren't\", \\\n",
        "            'won', \"won't\", 'wouldn', \"wouldn't\"]"
      ],
      "execution_count": 7,
      "outputs": []
    },
    {
      "cell_type": "code",
      "metadata": {
        "colab_type": "code",
        "id": "psYzxElC2EPk",
        "colab": {}
      },
      "source": [
        "def preprocess_text(text_data):\n",
        "    preprocessed_text = []\n",
        "    # tqdm is for printing the status bar\n",
        "    for sentance in tqdm(text_data):\n",
        "        sent = decontracted(sentance)\n",
        "        sent = sent.replace('\\\\r', ' ')\n",
        "        sent = sent.replace('\\\\n', ' ')\n",
        "        sent = sent.replace('\\\\\"', ' ')\n",
        "        sent = re.sub('[^A-Za-z0-9]+', ' ', sent)\n",
        "        # https://gist.github.com/sebleier/554280\n",
        "        sent = ' '.join(e for e in sent.split() if e.lower() not in stopwords)\n",
        "        preprocessed_text.append(sent.lower().strip())\n",
        "    return preprocessed_text"
      ],
      "execution_count": 8,
      "outputs": []
    },
    {
      "cell_type": "markdown",
      "metadata": {
        "colab_type": "text",
        "id": "S8Aw3j-0x0HK"
      },
      "source": [
        "## Preprocessing project title and essay.\n",
        "\n",
        "\n",
        "\n"
      ]
    },
    {
      "cell_type": "code",
      "metadata": {
        "colab_type": "code",
        "id": "f14fsD2FxgQi",
        "colab": {}
      },
      "source": [
        "# merge two column text dataframe: \n",
        "donor[\"essay\"] = donor[\"project_essay_1\"].map(str) +\\\n",
        "                    donor[\"project_essay_2\"].map(str) + \\\n",
        "                        donor[\"project_essay_3\"].map(str) + \\\n",
        "                            donor[\"project_essay_4\"].map(str)"
      ],
      "execution_count": 9,
      "outputs": []
    },
    {
      "cell_type": "code",
      "metadata": {
        "colab_type": "code",
        "id": "1tAtN4OV1VCR",
        "colab": {
          "base_uri": "https://localhost:8080/",
          "height": 67,
          "referenced_widgets": [
            "28311310ab9341c1a74925261cf4a358",
            "29ca558e5c51487281df5d6c6e33ea7b",
            "5500be3557b14f2283a88af1ed4dece9",
            "d531631e64ca420ea4d0bc51eb4a8464",
            "c1e49fb650e04622b42fb4778f575889",
            "bbad2790c7d54c4a861c059e5c23a9f9",
            "7ccece260c834f1ca8fafd201046c7aa",
            "e479118ec2b7499993fc8699627da9dc"
          ]
        },
        "outputId": "02fac0a1-853d-4830-9e5a-42f5a7088c18"
      },
      "source": [
        "preprocessed_essays = preprocess_text(donor['essay'].values)"
      ],
      "execution_count": 10,
      "outputs": [
        {
          "output_type": "display_data",
          "data": {
            "application/vnd.jupyter.widget-view+json": {
              "model_id": "28311310ab9341c1a74925261cf4a358",
              "version_minor": 0,
              "version_major": 2
            },
            "text/plain": [
              "HBox(children=(FloatProgress(value=0.0, max=109248.0), HTML(value='')))"
            ]
          },
          "metadata": {
            "tags": []
          }
        },
        {
          "output_type": "stream",
          "text": [
            "\n"
          ],
          "name": "stdout"
        }
      ]
    },
    {
      "cell_type": "code",
      "metadata": {
        "colab_type": "code",
        "id": "b5nrybaRVUVE",
        "colab": {}
      },
      "source": [
        "donor['essay'] = preprocessed_essays"
      ],
      "execution_count": 12,
      "outputs": []
    },
    {
      "cell_type": "code",
      "metadata": {
        "colab_type": "code",
        "id": "X1XJhDLh5II0",
        "colab": {
          "base_uri": "https://localhost:8080/",
          "height": 67,
          "referenced_widgets": [
            "97d06b102aa3426185748514d1732022",
            "0cb5aacf88464430a56477f6a5149ddf",
            "c9e5fbe8fb6247c5b136fe1a4032f4ca",
            "ea8384c40f3d494f86f97ce207403237",
            "01c822ddc0784696ae381a91b37558d9",
            "8000df75bba5403eba2e80c3be9d2a0a",
            "aac8747f23904d1eae0f63a1bc29568b",
            "dbd599b9009e49a28d8ca70b0f155142"
          ]
        },
        "outputId": "3a942155-aa5e-4e7b-89e6-bf0afc411161"
      },
      "source": [
        "preprocessed_titles = preprocess_text(donor['project_title'].values)"
      ],
      "execution_count": 13,
      "outputs": [
        {
          "output_type": "display_data",
          "data": {
            "application/vnd.jupyter.widget-view+json": {
              "model_id": "97d06b102aa3426185748514d1732022",
              "version_minor": 0,
              "version_major": 2
            },
            "text/plain": [
              "HBox(children=(FloatProgress(value=0.0, max=109248.0), HTML(value='')))"
            ]
          },
          "metadata": {
            "tags": []
          }
        },
        {
          "output_type": "stream",
          "text": [
            "\n"
          ],
          "name": "stdout"
        }
      ]
    },
    {
      "cell_type": "code",
      "metadata": {
        "colab_type": "code",
        "id": "cWsc60phVmGu",
        "colab": {}
      },
      "source": [
        "donor['project_title'] = preprocessed_titles"
      ],
      "execution_count": 14,
      "outputs": []
    },
    {
      "cell_type": "markdown",
      "metadata": {
        "colab_type": "text",
        "id": "cTCfRHKH8gLq"
      },
      "source": [
        "## Preprocessing teacher_prefix, school_state, project_grade_category, project_subject_categories, project_subject_subcategories\n",
        "\n",
        "\n"
      ]
    },
    {
      "cell_type": "markdown",
      "metadata": {
        "colab_type": "text",
        "id": "Z4-wvaPp-5eX"
      },
      "source": [
        "### teacher_prefix"
      ]
    },
    {
      "cell_type": "code",
      "metadata": {
        "colab_type": "code",
        "id": "R-5IxbtYAA6E",
        "colab": {
          "base_uri": "https://localhost:8080/",
          "height": 124
        },
        "outputId": "56206b16-3c7d-40d7-dfdc-dfa49823cb2f"
      },
      "source": [
        "donor['teacher_prefix'].value_counts()"
      ],
      "execution_count": 15,
      "outputs": [
        {
          "output_type": "execute_result",
          "data": {
            "text/plain": [
              "Mrs.       57269\n",
              "Ms.        38955\n",
              "Mr.        10648\n",
              "Teacher     2360\n",
              "Dr.           13\n",
              "Name: teacher_prefix, dtype: int64"
            ]
          },
          "metadata": {
            "tags": []
          },
          "execution_count": 15
        }
      ]
    },
    {
      "cell_type": "code",
      "metadata": {
        "colab_type": "code",
        "id": "27PCDn5TA3rY",
        "colab": {
          "base_uri": "https://localhost:8080/",
          "height": 53
        },
        "outputId": "9a2ce65d-842f-4549-8706-1657554159a2"
      },
      "source": [
        "# check if we have any nan values are there\n",
        "print(donor['teacher_prefix'].isnull().values.any())\n",
        "print(\"number of nan values\",donor['teacher_prefix'].isnull().values.sum())"
      ],
      "execution_count": 16,
      "outputs": [
        {
          "output_type": "stream",
          "text": [
            "True\n",
            "number of nan values 3\n"
          ],
          "name": "stdout"
        }
      ]
    },
    {
      "cell_type": "code",
      "metadata": {
        "colab_type": "code",
        "id": "SBIsFeGcBD3J",
        "colab": {}
      },
      "source": [
        "#replacing nan values with Mrs. because it is prominent in the data.\n",
        "donor['teacher_prefix']=donor['teacher_prefix'].fillna('Mrs.')"
      ],
      "execution_count": 17,
      "outputs": []
    },
    {
      "cell_type": "code",
      "metadata": {
        "colab_type": "code",
        "id": "jRbcn0JNAFRa",
        "colab": {
          "base_uri": "https://localhost:8080/",
          "height": 124
        },
        "outputId": "5b33f242-2297-4b4c-b167-144e4f6d1424"
      },
      "source": [
        "donor['teacher_prefix'] = donor['teacher_prefix'].str.replace('.','')\n",
        "donor['teacher_prefix'] = donor['teacher_prefix'].str.lower()\n",
        "donor['teacher_prefix'].value_counts()"
      ],
      "execution_count": 18,
      "outputs": [
        {
          "output_type": "execute_result",
          "data": {
            "text/plain": [
              "mrs        57272\n",
              "ms         38955\n",
              "mr         10648\n",
              "teacher     2360\n",
              "dr            13\n",
              "Name: teacher_prefix, dtype: int64"
            ]
          },
          "metadata": {
            "tags": []
          },
          "execution_count": 18
        }
      ]
    },
    {
      "cell_type": "markdown",
      "metadata": {
        "colab_type": "text",
        "id": "-Hn2wT5o-jwO"
      },
      "source": [
        "### school_state"
      ]
    },
    {
      "cell_type": "code",
      "metadata": {
        "colab_type": "code",
        "id": "Dz3b8in7CKc7",
        "colab": {
          "base_uri": "https://localhost:8080/",
          "height": 53
        },
        "outputId": "212b9813-de35-4c56-c43b-6bbd28aaaacc"
      },
      "source": [
        "# check if we have any nan values are there\n",
        "print(donor['teacher_prefix'].isnull().values.any())\n",
        "print(\"number of nan values\",donor['teacher_prefix'].isnull().values.sum())"
      ],
      "execution_count": 19,
      "outputs": [
        {
          "output_type": "stream",
          "text": [
            "False\n",
            "number of nan values 0\n"
          ],
          "name": "stdout"
        }
      ]
    },
    {
      "cell_type": "code",
      "metadata": {
        "colab_type": "code",
        "id": "nLp2FvTsBo0U",
        "scrolled": true,
        "colab": {
          "base_uri": "https://localhost:8080/",
          "height": 945
        },
        "outputId": "3d25380b-b47f-4f93-98e8-48a1288c1a02"
      },
      "source": [
        "donor['school_state'] = donor['school_state'].str.lower()\n",
        "donor['school_state'].value_counts()"
      ],
      "execution_count": 20,
      "outputs": [
        {
          "output_type": "execute_result",
          "data": {
            "text/plain": [
              "ca    15388\n",
              "tx     7396\n",
              "ny     7318\n",
              "fl     6185\n",
              "nc     5091\n",
              "il     4350\n",
              "ga     3963\n",
              "sc     3936\n",
              "mi     3161\n",
              "pa     3109\n",
              "in     2620\n",
              "mo     2576\n",
              "oh     2467\n",
              "la     2394\n",
              "ma     2389\n",
              "wa     2334\n",
              "ok     2276\n",
              "nj     2237\n",
              "az     2147\n",
              "va     2045\n",
              "wi     1827\n",
              "al     1762\n",
              "ut     1731\n",
              "tn     1688\n",
              "ct     1663\n",
              "md     1514\n",
              "nv     1367\n",
              "ms     1323\n",
              "ky     1304\n",
              "or     1242\n",
              "mn     1208\n",
              "co     1111\n",
              "ar     1049\n",
              "id      693\n",
              "ia      666\n",
              "ks      634\n",
              "nm      557\n",
              "dc      516\n",
              "hi      507\n",
              "me      505\n",
              "wv      503\n",
              "nh      348\n",
              "ak      345\n",
              "de      343\n",
              "ne      309\n",
              "sd      300\n",
              "ri      285\n",
              "mt      245\n",
              "nd      143\n",
              "wy       98\n",
              "vt       80\n",
              "Name: school_state, dtype: int64"
            ]
          },
          "metadata": {
            "tags": []
          },
          "execution_count": 20
        }
      ]
    },
    {
      "cell_type": "markdown",
      "metadata": {
        "colab_type": "text",
        "id": "-UfuLvnO-b8Y"
      },
      "source": [
        "### project_grade_category"
      ]
    },
    {
      "cell_type": "code",
      "metadata": {
        "colab_type": "code",
        "id": "rTOugxAbCdn_",
        "colab": {
          "base_uri": "https://localhost:8080/",
          "height": 106
        },
        "outputId": "9a45901b-20ec-435c-c59b-c5c91850a285"
      },
      "source": [
        "donor['project_grade_category'].value_counts()"
      ],
      "execution_count": 21,
      "outputs": [
        {
          "output_type": "execute_result",
          "data": {
            "text/plain": [
              "Grades PreK-2    44225\n",
              "Grades 3-5       37137\n",
              "Grades 6-8       16923\n",
              "Grades 9-12      10963\n",
              "Name: project_grade_category, dtype: int64"
            ]
          },
          "metadata": {
            "tags": []
          },
          "execution_count": 21
        }
      ]
    },
    {
      "cell_type": "code",
      "metadata": {
        "colab_type": "code",
        "id": "6_iwIjm2ChYa",
        "colab": {
          "base_uri": "https://localhost:8080/",
          "height": 106
        },
        "outputId": "33feb60a-49da-46fb-a5f4-5f5d16125eb6"
      },
      "source": [
        "donor['project_grade_category'] = donor['project_grade_category'].str.replace(' ','_')\n",
        "donor['project_grade_category'] = donor['project_grade_category'].str.replace('-','_')\n",
        "donor['project_grade_category'] = donor['project_grade_category'].str.lower()\n",
        "donor['project_grade_category'].value_counts()"
      ],
      "execution_count": 22,
      "outputs": [
        {
          "output_type": "execute_result",
          "data": {
            "text/plain": [
              "grades_prek_2    44225\n",
              "grades_3_5       37137\n",
              "grades_6_8       16923\n",
              "grades_9_12      10963\n",
              "Name: project_grade_category, dtype: int64"
            ]
          },
          "metadata": {
            "tags": []
          },
          "execution_count": 22
        }
      ]
    },
    {
      "cell_type": "markdown",
      "metadata": {
        "colab_type": "text",
        "id": "Pn2IoL3w-jka"
      },
      "source": [
        "### project_subject_categories"
      ]
    },
    {
      "cell_type": "code",
      "metadata": {
        "colab_type": "code",
        "id": "31-8cWDHDSZY",
        "scrolled": true,
        "colab": {
          "base_uri": "https://localhost:8080/",
          "height": 945
        },
        "outputId": "a86df63d-88ec-4009-f6f3-83a4460ee81c"
      },
      "source": [
        "donor['project_subject_categories'].value_counts()"
      ],
      "execution_count": 23,
      "outputs": [
        {
          "output_type": "execute_result",
          "data": {
            "text/plain": [
              "Literacy & Language                           23655\n",
              "Math & Science                                17072\n",
              "Literacy & Language, Math & Science           14636\n",
              "Health & Sports                               10177\n",
              "Music & The Arts                               5180\n",
              "Special Needs                                  4226\n",
              "Literacy & Language, Special Needs             3961\n",
              "Applied Learning                               3771\n",
              "Math & Science, Literacy & Language            2289\n",
              "Applied Learning, Literacy & Language          2191\n",
              "History & Civics                               1851\n",
              "Math & Science, Special Needs                  1840\n",
              "Literacy & Language, Music & The Arts          1757\n",
              "Math & Science, Music & The Arts               1642\n",
              "Applied Learning, Special Needs                1467\n",
              "History & Civics, Literacy & Language          1421\n",
              "Health & Sports, Special Needs                 1391\n",
              "Warmth, Care & Hunger                          1309\n",
              "Math & Science, Applied Learning               1220\n",
              "Applied Learning, Math & Science               1052\n",
              "Literacy & Language, History & Civics           809\n",
              "Health & Sports, Literacy & Language            803\n",
              "Applied Learning, Music & The Arts              758\n",
              "Math & Science, History & Civics                652\n",
              "Literacy & Language, Applied Learning           636\n",
              "Applied Learning, Health & Sports               608\n",
              "Math & Science, Health & Sports                 414\n",
              "History & Civics, Math & Science                322\n",
              "History & Civics, Music & The Arts              312\n",
              "Special Needs, Music & The Arts                 302\n",
              "Health & Sports, Math & Science                 271\n",
              "History & Civics, Special Needs                 252\n",
              "Health & Sports, Applied Learning               192\n",
              "Applied Learning, History & Civics              178\n",
              "Health & Sports, Music & The Arts               155\n",
              "Music & The Arts, Special Needs                 138\n",
              "Literacy & Language, Health & Sports             72\n",
              "Health & Sports, History & Civics                43\n",
              "Special Needs, Health & Sports                   42\n",
              "History & Civics, Applied Learning               42\n",
              "Special Needs, Warmth, Care & Hunger             23\n",
              "Health & Sports, Warmth, Care & Hunger           23\n",
              "Music & The Arts, Health & Sports                19\n",
              "Music & The Arts, History & Civics               18\n",
              "History & Civics, Health & Sports                13\n",
              "Math & Science, Warmth, Care & Hunger            11\n",
              "Music & The Arts, Applied Learning               10\n",
              "Applied Learning, Warmth, Care & Hunger          10\n",
              "Literacy & Language, Warmth, Care & Hunger        9\n",
              "Music & The Arts, Warmth, Care & Hunger           2\n",
              "History & Civics, Warmth, Care & Hunger           1\n",
              "Name: project_subject_categories, dtype: int64"
            ]
          },
          "metadata": {
            "tags": []
          },
          "execution_count": 23
        }
      ]
    },
    {
      "cell_type": "code",
      "metadata": {
        "colab_type": "code",
        "id": "u7GyJmp3DW6s",
        "colab": {
          "base_uri": "https://localhost:8080/",
          "height": 945
        },
        "outputId": "e3f5cc14-9706-4beb-8500-a086d0b23da9"
      },
      "source": [
        "donor['project_subject_categories'] = donor['project_subject_categories'].str.replace(' The ','')\n",
        "donor['project_subject_categories'] = donor['project_subject_categories'].str.replace(' ','')\n",
        "donor['project_subject_categories'] = donor['project_subject_categories'].str.replace('&','_')\n",
        "donor['project_subject_categories'] = donor['project_subject_categories'].str.replace(',',' ')\n",
        "donor['project_subject_categories'] = donor['project_subject_categories'].str.lower()\n",
        "donor['project_subject_categories'].value_counts()"
      ],
      "execution_count": 24,
      "outputs": [
        {
          "output_type": "execute_result",
          "data": {
            "text/plain": [
              "literacy_language                       23655\n",
              "math_science                            17072\n",
              "literacy_language math_science          14636\n",
              "health_sports                           10177\n",
              "music_arts                               5180\n",
              "specialneeds                             4226\n",
              "literacy_language specialneeds           3961\n",
              "appliedlearning                          3771\n",
              "math_science literacy_language           2289\n",
              "appliedlearning literacy_language        2191\n",
              "history_civics                           1851\n",
              "math_science specialneeds                1840\n",
              "literacy_language music_arts             1757\n",
              "math_science music_arts                  1642\n",
              "appliedlearning specialneeds             1467\n",
              "history_civics literacy_language         1421\n",
              "health_sports specialneeds               1391\n",
              "warmth care_hunger                       1309\n",
              "math_science appliedlearning             1220\n",
              "appliedlearning math_science             1052\n",
              "literacy_language history_civics          809\n",
              "health_sports literacy_language           803\n",
              "appliedlearning music_arts                758\n",
              "math_science history_civics               652\n",
              "literacy_language appliedlearning         636\n",
              "appliedlearning health_sports             608\n",
              "math_science health_sports                414\n",
              "history_civics math_science               322\n",
              "history_civics music_arts                 312\n",
              "specialneeds music_arts                   302\n",
              "health_sports math_science                271\n",
              "history_civics specialneeds               252\n",
              "health_sports appliedlearning             192\n",
              "appliedlearning history_civics            178\n",
              "health_sports music_arts                  155\n",
              "music_arts specialneeds                   138\n",
              "literacy_language health_sports            72\n",
              "health_sports history_civics               43\n",
              "history_civics appliedlearning             42\n",
              "specialneeds health_sports                 42\n",
              "specialneeds warmth care_hunger            23\n",
              "health_sports warmth care_hunger           23\n",
              "music_arts health_sports                   19\n",
              "music_arts history_civics                  18\n",
              "history_civics health_sports               13\n",
              "math_science warmth care_hunger            11\n",
              "appliedlearning warmth care_hunger         10\n",
              "music_arts appliedlearning                 10\n",
              "literacy_language warmth care_hunger        9\n",
              "music_arts warmth care_hunger               2\n",
              "history_civics warmth care_hunger           1\n",
              "Name: project_subject_categories, dtype: int64"
            ]
          },
          "metadata": {
            "tags": []
          },
          "execution_count": 24
        }
      ]
    },
    {
      "cell_type": "markdown",
      "metadata": {
        "colab_type": "text",
        "id": "mpTyhNmB-jY4"
      },
      "source": [
        "### project_subject_subcategories"
      ]
    },
    {
      "cell_type": "code",
      "metadata": {
        "colab_type": "code",
        "id": "TWU846vR-hRE",
        "colab": {
          "base_uri": "https://localhost:8080/",
          "height": 231
        },
        "outputId": "fac67628-8a85-4267-fe68-830faf285c2d"
      },
      "source": [
        "donor['project_subject_subcategories'].value_counts()\n"
      ],
      "execution_count": 25,
      "outputs": [
        {
          "output_type": "execute_result",
          "data": {
            "text/plain": [
              "Literacy                                  9486\n",
              "Literacy, Mathematics                     8325\n",
              "Literature & Writing, Mathematics         5923\n",
              "Literacy, Literature & Writing            5571\n",
              "Mathematics                               5379\n",
              "                                          ... \n",
              "Civics & Government, Foreign Languages       1\n",
              "ESL, Economics                               1\n",
              "Other, Warmth, Care & Hunger                 1\n",
              "Economics, Music                             1\n",
              "Extracurricular, Financial Literacy          1\n",
              "Name: project_subject_subcategories, Length: 401, dtype: int64"
            ]
          },
          "metadata": {
            "tags": []
          },
          "execution_count": 25
        }
      ]
    },
    {
      "cell_type": "code",
      "metadata": {
        "colab_type": "code",
        "id": "W69yyt_l-hHH",
        "colab": {
          "base_uri": "https://localhost:8080/",
          "height": 231
        },
        "outputId": "3749aff5-1cf6-402f-b1ed-82f7b8ff3e05"
      },
      "source": [
        "donor['project_subject_subcategories'] = donor['project_subject_subcategories'].str.replace(' The ','')\n",
        "donor['project_subject_subcategories'] = donor['project_subject_subcategories'].str.replace(' ','')\n",
        "donor['project_subject_subcategories'] = donor['project_subject_subcategories'].str.replace('&','_')\n",
        "donor['project_subject_subcategories'] = donor['project_subject_subcategories'].str.replace(',',' ')\n",
        "donor['project_subject_subcategories'] = donor['project_subject_subcategories'].str.lower()\n",
        "donor['project_subject_subcategories'].value_counts()"
      ],
      "execution_count": 26,
      "outputs": [
        {
          "output_type": "execute_result",
          "data": {
            "text/plain": [
              "literacy                                 9486\n",
              "literacy mathematics                     8325\n",
              "literature_writing mathematics           5923\n",
              "literacy literature_writing              5571\n",
              "mathematics                              5379\n",
              "                                         ... \n",
              "civics_government foreignlanguages          1\n",
              "literature_writing nutritioneducation       1\n",
              "extracurricular financialliteracy           1\n",
              "history_geography warmth care_hunger        1\n",
              "financialliteracy foreignlanguages          1\n",
              "Name: project_subject_subcategories, Length: 401, dtype: int64"
            ]
          },
          "metadata": {
            "tags": []
          },
          "execution_count": 26
        }
      ]
    },
    {
      "cell_type": "markdown",
      "metadata": {
        "colab_type": "text",
        "id": "dCpU6adXEdtZ"
      },
      "source": [
        "## Adding the resource data "
      ]
    },
    {
      "cell_type": "markdown",
      "metadata": {
        "colab_type": "text",
        "id": "eIKFzKYkEuNq"
      },
      "source": [
        "**resource data contains price and quantity of the data, we use grouby and sum the data on the basis of ID of the resource to get the total quantity and amount of the resource.**"
      ]
    },
    {
      "cell_type": "code",
      "metadata": {
        "colab_type": "code",
        "id": "CPfTbwfc-gvL",
        "colab": {
          "base_uri": "https://localhost:8080/",
          "height": 202
        },
        "outputId": "67b5e181-ea4b-414e-ecee-2b5ae0a19334"
      },
      "source": [
        "price_ = resource.groupby('id').agg({'price':'sum', 'quantity':'sum'}).reset_index()\n",
        "price_.head()"
      ],
      "execution_count": 27,
      "outputs": [
        {
          "output_type": "execute_result",
          "data": {
            "text/html": [
              "<div>\n",
              "<style scoped>\n",
              "    .dataframe tbody tr th:only-of-type {\n",
              "        vertical-align: middle;\n",
              "    }\n",
              "\n",
              "    .dataframe tbody tr th {\n",
              "        vertical-align: top;\n",
              "    }\n",
              "\n",
              "    .dataframe thead th {\n",
              "        text-align: right;\n",
              "    }\n",
              "</style>\n",
              "<table border=\"1\" class=\"dataframe\">\n",
              "  <thead>\n",
              "    <tr style=\"text-align: right;\">\n",
              "      <th></th>\n",
              "      <th>id</th>\n",
              "      <th>price</th>\n",
              "      <th>quantity</th>\n",
              "    </tr>\n",
              "  </thead>\n",
              "  <tbody>\n",
              "    <tr>\n",
              "      <th>0</th>\n",
              "      <td>p000001</td>\n",
              "      <td>459.56</td>\n",
              "      <td>7</td>\n",
              "    </tr>\n",
              "    <tr>\n",
              "      <th>1</th>\n",
              "      <td>p000002</td>\n",
              "      <td>515.89</td>\n",
              "      <td>21</td>\n",
              "    </tr>\n",
              "    <tr>\n",
              "      <th>2</th>\n",
              "      <td>p000003</td>\n",
              "      <td>298.97</td>\n",
              "      <td>4</td>\n",
              "    </tr>\n",
              "    <tr>\n",
              "      <th>3</th>\n",
              "      <td>p000004</td>\n",
              "      <td>1113.69</td>\n",
              "      <td>98</td>\n",
              "    </tr>\n",
              "    <tr>\n",
              "      <th>4</th>\n",
              "      <td>p000005</td>\n",
              "      <td>485.99</td>\n",
              "      <td>8</td>\n",
              "    </tr>\n",
              "  </tbody>\n",
              "</table>\n",
              "</div>"
            ],
            "text/plain": [
              "        id    price  quantity\n",
              "0  p000001   459.56         7\n",
              "1  p000002   515.89        21\n",
              "2  p000003   298.97         4\n",
              "3  p000004  1113.69        98\n",
              "4  p000005   485.99         8"
            ]
          },
          "metadata": {
            "tags": []
          },
          "execution_count": 27
        }
      ]
    },
    {
      "cell_type": "markdown",
      "metadata": {
        "colab_type": "text",
        "id": "JDYx1vb9Fiew"
      },
      "source": [
        "## merging and final data"
      ]
    },
    {
      "cell_type": "code",
      "metadata": {
        "colab_type": "code",
        "id": "bwISXT0HFnzy",
        "scrolled": true,
        "colab": {
          "base_uri": "https://localhost:8080/",
          "height": 1000
        },
        "outputId": "412598ff-4546-48c1-b9f2-7c2b44649808"
      },
      "source": [
        "# join two dataframes in python: \n",
        "donor = pd.merge(donor, price_, on='id', how='left')\n",
        "donor.head(10)             #Final data after preprocessing.\n"
      ],
      "execution_count": 28,
      "outputs": [
        {
          "output_type": "execute_result",
          "data": {
            "text/html": [
              "<div>\n",
              "<style scoped>\n",
              "    .dataframe tbody tr th:only-of-type {\n",
              "        vertical-align: middle;\n",
              "    }\n",
              "\n",
              "    .dataframe tbody tr th {\n",
              "        vertical-align: top;\n",
              "    }\n",
              "\n",
              "    .dataframe thead th {\n",
              "        text-align: right;\n",
              "    }\n",
              "</style>\n",
              "<table border=\"1\" class=\"dataframe\">\n",
              "  <thead>\n",
              "    <tr style=\"text-align: right;\">\n",
              "      <th></th>\n",
              "      <th>Unnamed: 0</th>\n",
              "      <th>id</th>\n",
              "      <th>teacher_id</th>\n",
              "      <th>teacher_prefix</th>\n",
              "      <th>school_state</th>\n",
              "      <th>project_submitted_datetime</th>\n",
              "      <th>project_grade_category</th>\n",
              "      <th>project_subject_categories</th>\n",
              "      <th>project_subject_subcategories</th>\n",
              "      <th>project_title</th>\n",
              "      <th>project_essay_1</th>\n",
              "      <th>project_essay_2</th>\n",
              "      <th>project_essay_3</th>\n",
              "      <th>project_essay_4</th>\n",
              "      <th>project_resource_summary</th>\n",
              "      <th>teacher_number_of_previously_posted_projects</th>\n",
              "      <th>project_is_approved</th>\n",
              "      <th>essay</th>\n",
              "      <th>price</th>\n",
              "      <th>quantity</th>\n",
              "    </tr>\n",
              "  </thead>\n",
              "  <tbody>\n",
              "    <tr>\n",
              "      <th>0</th>\n",
              "      <td>160221</td>\n",
              "      <td>p253737</td>\n",
              "      <td>c90749f5d961ff158d4b4d1e7dc665fc</td>\n",
              "      <td>mrs</td>\n",
              "      <td>in</td>\n",
              "      <td>2016-12-05 13:43:57</td>\n",
              "      <td>grades_prek_2</td>\n",
              "      <td>literacy_language</td>\n",
              "      <td>esl literacy</td>\n",
              "      <td>educational support english learners home</td>\n",
              "      <td>My students are English learners that are work...</td>\n",
              "      <td>\\\"The limits of your language are the limits o...</td>\n",
              "      <td>NaN</td>\n",
              "      <td>NaN</td>\n",
              "      <td>My students need opportunities to practice beg...</td>\n",
              "      <td>0</td>\n",
              "      <td>0</td>\n",
              "      <td>students english learners working english seco...</td>\n",
              "      <td>154.60</td>\n",
              "      <td>23</td>\n",
              "    </tr>\n",
              "    <tr>\n",
              "      <th>1</th>\n",
              "      <td>140945</td>\n",
              "      <td>p258326</td>\n",
              "      <td>897464ce9ddc600bced1151f324dd63a</td>\n",
              "      <td>mr</td>\n",
              "      <td>fl</td>\n",
              "      <td>2016-10-25 09:22:10</td>\n",
              "      <td>grades_6_8</td>\n",
              "      <td>history_civics health_sports</td>\n",
              "      <td>civics_government teamsports</td>\n",
              "      <td>wanted projector hungry learners</td>\n",
              "      <td>Our students arrive to our school eager to lea...</td>\n",
              "      <td>The projector we need for our school is very c...</td>\n",
              "      <td>NaN</td>\n",
              "      <td>NaN</td>\n",
              "      <td>My students need a projector to help with view...</td>\n",
              "      <td>7</td>\n",
              "      <td>1</td>\n",
              "      <td>students arrive school eager learn polite gene...</td>\n",
              "      <td>299.00</td>\n",
              "      <td>1</td>\n",
              "    </tr>\n",
              "    <tr>\n",
              "      <th>2</th>\n",
              "      <td>21895</td>\n",
              "      <td>p182444</td>\n",
              "      <td>3465aaf82da834c0582ebd0ef8040ca0</td>\n",
              "      <td>ms</td>\n",
              "      <td>az</td>\n",
              "      <td>2016-08-31 12:03:56</td>\n",
              "      <td>grades_6_8</td>\n",
              "      <td>health_sports</td>\n",
              "      <td>health_wellness teamsports</td>\n",
              "      <td>soccer equipment awesome middle school students</td>\n",
              "      <td>\\r\\n\\\"True champions aren't always the ones th...</td>\n",
              "      <td>The students on the campus come to school know...</td>\n",
              "      <td>NaN</td>\n",
              "      <td>NaN</td>\n",
              "      <td>My students need shine guards, athletic socks,...</td>\n",
              "      <td>1</td>\n",
              "      <td>0</td>\n",
              "      <td>true champions not always ones win guts mia ha...</td>\n",
              "      <td>516.85</td>\n",
              "      <td>22</td>\n",
              "    </tr>\n",
              "    <tr>\n",
              "      <th>3</th>\n",
              "      <td>45</td>\n",
              "      <td>p246581</td>\n",
              "      <td>f3cb9bffbba169bef1a77b243e620b60</td>\n",
              "      <td>mrs</td>\n",
              "      <td>ky</td>\n",
              "      <td>2016-10-06 21:16:17</td>\n",
              "      <td>grades_prek_2</td>\n",
              "      <td>literacy_language math_science</td>\n",
              "      <td>literacy mathematics</td>\n",
              "      <td>techie kindergarteners</td>\n",
              "      <td>I work at a unique school filled with both ESL...</td>\n",
              "      <td>My students live in high poverty conditions wi...</td>\n",
              "      <td>NaN</td>\n",
              "      <td>NaN</td>\n",
              "      <td>My students need to engage in Reading and Math...</td>\n",
              "      <td>4</td>\n",
              "      <td>1</td>\n",
              "      <td>work unique school filled esl english second l...</td>\n",
              "      <td>232.90</td>\n",
              "      <td>4</td>\n",
              "    </tr>\n",
              "    <tr>\n",
              "      <th>4</th>\n",
              "      <td>172407</td>\n",
              "      <td>p104768</td>\n",
              "      <td>be1f7507a41f8479dc06f047086a39ec</td>\n",
              "      <td>mrs</td>\n",
              "      <td>tx</td>\n",
              "      <td>2016-07-11 01:10:09</td>\n",
              "      <td>grades_prek_2</td>\n",
              "      <td>math_science</td>\n",
              "      <td>mathematics</td>\n",
              "      <td>interactive math tools</td>\n",
              "      <td>Our second grade classroom next year will be m...</td>\n",
              "      <td>For many students, math is a subject that does...</td>\n",
              "      <td>NaN</td>\n",
              "      <td>NaN</td>\n",
              "      <td>My students need hands on practice in mathemat...</td>\n",
              "      <td>1</td>\n",
              "      <td>1</td>\n",
              "      <td>second grade classroom next year made around 2...</td>\n",
              "      <td>67.98</td>\n",
              "      <td>4</td>\n",
              "    </tr>\n",
              "    <tr>\n",
              "      <th>5</th>\n",
              "      <td>141660</td>\n",
              "      <td>p154343</td>\n",
              "      <td>a50a390e8327a95b77b9e495b58b9a6e</td>\n",
              "      <td>mrs</td>\n",
              "      <td>fl</td>\n",
              "      <td>2017-04-08 22:40:43</td>\n",
              "      <td>grades_3_5</td>\n",
              "      <td>literacy_language specialneeds</td>\n",
              "      <td>literature_writing specialneeds</td>\n",
              "      <td>flexible seating mrs jarvis terrific third gra...</td>\n",
              "      <td>I will be moving from 2nd grade to 3rd grade a...</td>\n",
              "      <td>These flexible seating options will allow my s...</td>\n",
              "      <td>NaN</td>\n",
              "      <td>NaN</td>\n",
              "      <td>My students need movement to be successful. Be...</td>\n",
              "      <td>1</td>\n",
              "      <td>1</td>\n",
              "      <td>moving 2nd grade 3rd grade beginning next scho...</td>\n",
              "      <td>113.22</td>\n",
              "      <td>11</td>\n",
              "    </tr>\n",
              "    <tr>\n",
              "      <th>6</th>\n",
              "      <td>21147</td>\n",
              "      <td>p099819</td>\n",
              "      <td>9b40170bfa65e399981717ee8731efc3</td>\n",
              "      <td>mrs</td>\n",
              "      <td>ct</td>\n",
              "      <td>2017-02-17 19:58:56</td>\n",
              "      <td>grades_6_8</td>\n",
              "      <td>literacy_language specialneeds</td>\n",
              "      <td>literacy specialneeds</td>\n",
              "      <td>chromebooks special education reading program</td>\n",
              "      <td>My students are a dynamic and very energetic g...</td>\n",
              "      <td>My students are an engaging and active group o...</td>\n",
              "      <td>NaN</td>\n",
              "      <td>NaN</td>\n",
              "      <td>My students need some dependable laptops for d...</td>\n",
              "      <td>1</td>\n",
              "      <td>1</td>\n",
              "      <td>students dynamic energetic group middle school...</td>\n",
              "      <td>159.99</td>\n",
              "      <td>3</td>\n",
              "    </tr>\n",
              "    <tr>\n",
              "      <th>7</th>\n",
              "      <td>94142</td>\n",
              "      <td>p092424</td>\n",
              "      <td>5bfd3d12fae3d2fe88684bbac570c9d2</td>\n",
              "      <td>ms</td>\n",
              "      <td>ga</td>\n",
              "      <td>2016-09-01 00:02:15</td>\n",
              "      <td>grades_3_5</td>\n",
              "      <td>math_science</td>\n",
              "      <td>mathematics</td>\n",
              "      <td>21st century</td>\n",
              "      <td>Not only do our students struggle with poverty...</td>\n",
              "      <td>My students need 4 iPads, the latest technolog...</td>\n",
              "      <td>NaN</td>\n",
              "      <td>NaN</td>\n",
              "      <td>My students need ipads to help them access a w...</td>\n",
              "      <td>7</td>\n",
              "      <td>1</td>\n",
              "      <td>not students struggle poverty also learning ma...</td>\n",
              "      <td>229.00</td>\n",
              "      <td>4</td>\n",
              "    </tr>\n",
              "    <tr>\n",
              "      <th>8</th>\n",
              "      <td>112489</td>\n",
              "      <td>p045029</td>\n",
              "      <td>487448f5226005d08d36bdd75f095b31</td>\n",
              "      <td>mrs</td>\n",
              "      <td>sc</td>\n",
              "      <td>2016-09-25 17:00:26</td>\n",
              "      <td>grades_prek_2</td>\n",
              "      <td>health_sports</td>\n",
              "      <td>health_wellness</td>\n",
              "      <td>targeting success class</td>\n",
              "      <td>My students are enthusiastic and inquisitive l...</td>\n",
              "      <td>My second graders need extra activity time dur...</td>\n",
              "      <td>NaN</td>\n",
              "      <td>NaN</td>\n",
              "      <td>My students need three devices and three manag...</td>\n",
              "      <td>28</td>\n",
              "      <td>1</td>\n",
              "      <td>students enthusiastic inquisitive learners k 6...</td>\n",
              "      <td>241.98</td>\n",
              "      <td>6</td>\n",
              "    </tr>\n",
              "    <tr>\n",
              "      <th>9</th>\n",
              "      <td>158561</td>\n",
              "      <td>p001713</td>\n",
              "      <td>140eeac1885c820ad5592a409a3a8994</td>\n",
              "      <td>ms</td>\n",
              "      <td>nc</td>\n",
              "      <td>2016-11-17 18:18:56</td>\n",
              "      <td>grades_prek_2</td>\n",
              "      <td>literacy_language</td>\n",
              "      <td>literacy literature_writing</td>\n",
              "      <td>love reading pure pleasure</td>\n",
              "      <td>Over 95% of my students are on free or reduced...</td>\n",
              "      <td>Reading is Fundamental! My students will read ...</td>\n",
              "      <td>NaN</td>\n",
              "      <td>NaN</td>\n",
              "      <td>My students need great books to use during Ind...</td>\n",
              "      <td>36</td>\n",
              "      <td>1</td>\n",
              "      <td>95 students free reduced lunch homeless despit...</td>\n",
              "      <td>125.36</td>\n",
              "      <td>14</td>\n",
              "    </tr>\n",
              "  </tbody>\n",
              "</table>\n",
              "</div>"
            ],
            "text/plain": [
              "   Unnamed: 0       id  ...   price quantity\n",
              "0      160221  p253737  ...  154.60       23\n",
              "1      140945  p258326  ...  299.00        1\n",
              "2       21895  p182444  ...  516.85       22\n",
              "3          45  p246581  ...  232.90        4\n",
              "4      172407  p104768  ...   67.98        4\n",
              "5      141660  p154343  ...  113.22       11\n",
              "6       21147  p099819  ...  159.99        3\n",
              "7       94142  p092424  ...  229.00        4\n",
              "8      112489  p045029  ...  241.98        6\n",
              "9      158561  p001713  ...  125.36       14\n",
              "\n",
              "[10 rows x 20 columns]"
            ]
          },
          "metadata": {
            "tags": []
          },
          "execution_count": 28
        }
      ]
    },
    {
      "cell_type": "markdown",
      "metadata": {
        "colab_type": "text",
        "id": "sF9GIflHyg0a"
      },
      "source": [
        "## Splitting the data into train and test"
      ]
    },
    {
      "cell_type": "code",
      "metadata": {
        "colab_type": "code",
        "id": "z8eD5i1PvRUT",
        "colab": {
          "base_uri": "https://localhost:8080/",
          "height": 670
        },
        "outputId": "7abde514-ac47-4bd6-cd95-7344b5df339b"
      },
      "source": [
        "X = donor[['teacher_prefix','school_state','project_title','project_grade_category','project_subject_categories','project_subject_subcategories','essay',\"teacher_number_of_previously_posted_projects\",'price', ]]\n",
        "X.head()"
      ],
      "execution_count": 29,
      "outputs": [
        {
          "output_type": "execute_result",
          "data": {
            "text/html": [
              "<div>\n",
              "<style scoped>\n",
              "    .dataframe tbody tr th:only-of-type {\n",
              "        vertical-align: middle;\n",
              "    }\n",
              "\n",
              "    .dataframe tbody tr th {\n",
              "        vertical-align: top;\n",
              "    }\n",
              "\n",
              "    .dataframe thead th {\n",
              "        text-align: right;\n",
              "    }\n",
              "</style>\n",
              "<table border=\"1\" class=\"dataframe\">\n",
              "  <thead>\n",
              "    <tr style=\"text-align: right;\">\n",
              "      <th></th>\n",
              "      <th>teacher_prefix</th>\n",
              "      <th>school_state</th>\n",
              "      <th>project_title</th>\n",
              "      <th>project_grade_category</th>\n",
              "      <th>project_subject_categories</th>\n",
              "      <th>project_subject_subcategories</th>\n",
              "      <th>essay</th>\n",
              "      <th>teacher_number_of_previously_posted_projects</th>\n",
              "      <th>price</th>\n",
              "    </tr>\n",
              "  </thead>\n",
              "  <tbody>\n",
              "    <tr>\n",
              "      <th>0</th>\n",
              "      <td>mrs</td>\n",
              "      <td>in</td>\n",
              "      <td>educational support english learners home</td>\n",
              "      <td>grades_prek_2</td>\n",
              "      <td>literacy_language</td>\n",
              "      <td>esl literacy</td>\n",
              "      <td>students english learners working english seco...</td>\n",
              "      <td>0</td>\n",
              "      <td>154.60</td>\n",
              "    </tr>\n",
              "    <tr>\n",
              "      <th>1</th>\n",
              "      <td>mr</td>\n",
              "      <td>fl</td>\n",
              "      <td>wanted projector hungry learners</td>\n",
              "      <td>grades_6_8</td>\n",
              "      <td>history_civics health_sports</td>\n",
              "      <td>civics_government teamsports</td>\n",
              "      <td>students arrive school eager learn polite gene...</td>\n",
              "      <td>7</td>\n",
              "      <td>299.00</td>\n",
              "    </tr>\n",
              "    <tr>\n",
              "      <th>2</th>\n",
              "      <td>ms</td>\n",
              "      <td>az</td>\n",
              "      <td>soccer equipment awesome middle school students</td>\n",
              "      <td>grades_6_8</td>\n",
              "      <td>health_sports</td>\n",
              "      <td>health_wellness teamsports</td>\n",
              "      <td>true champions not always ones win guts mia ha...</td>\n",
              "      <td>1</td>\n",
              "      <td>516.85</td>\n",
              "    </tr>\n",
              "    <tr>\n",
              "      <th>3</th>\n",
              "      <td>mrs</td>\n",
              "      <td>ky</td>\n",
              "      <td>techie kindergarteners</td>\n",
              "      <td>grades_prek_2</td>\n",
              "      <td>literacy_language math_science</td>\n",
              "      <td>literacy mathematics</td>\n",
              "      <td>work unique school filled esl english second l...</td>\n",
              "      <td>4</td>\n",
              "      <td>232.90</td>\n",
              "    </tr>\n",
              "    <tr>\n",
              "      <th>4</th>\n",
              "      <td>mrs</td>\n",
              "      <td>tx</td>\n",
              "      <td>interactive math tools</td>\n",
              "      <td>grades_prek_2</td>\n",
              "      <td>math_science</td>\n",
              "      <td>mathematics</td>\n",
              "      <td>second grade classroom next year made around 2...</td>\n",
              "      <td>1</td>\n",
              "      <td>67.98</td>\n",
              "    </tr>\n",
              "  </tbody>\n",
              "</table>\n",
              "</div>"
            ],
            "text/plain": [
              "  teacher_prefix  ...   price\n",
              "0            mrs  ...  154.60\n",
              "1             mr  ...  299.00\n",
              "2             ms  ...  516.85\n",
              "3            mrs  ...  232.90\n",
              "4            mrs  ...   67.98\n",
              "\n",
              "[5 rows x 9 columns]"
            ]
          },
          "metadata": {
            "tags": []
          },
          "execution_count": 29
        }
      ]
    },
    {
      "cell_type": "code",
      "metadata": {
        "colab_type": "code",
        "id": "89OBZ7x1DYIw",
        "colab": {
          "base_uri": "https://localhost:8080/",
          "height": 202
        },
        "outputId": "ff60e725-78a6-45da-d271-9f0a17c855a1"
      },
      "source": [
        "Y = donor[['project_is_approved']]\n",
        "Y.head()\n"
      ],
      "execution_count": 47,
      "outputs": [
        {
          "output_type": "execute_result",
          "data": {
            "text/html": [
              "<div>\n",
              "<style scoped>\n",
              "    .dataframe tbody tr th:only-of-type {\n",
              "        vertical-align: middle;\n",
              "    }\n",
              "\n",
              "    .dataframe tbody tr th {\n",
              "        vertical-align: top;\n",
              "    }\n",
              "\n",
              "    .dataframe thead th {\n",
              "        text-align: right;\n",
              "    }\n",
              "</style>\n",
              "<table border=\"1\" class=\"dataframe\">\n",
              "  <thead>\n",
              "    <tr style=\"text-align: right;\">\n",
              "      <th></th>\n",
              "      <th>project_is_approved</th>\n",
              "    </tr>\n",
              "  </thead>\n",
              "  <tbody>\n",
              "    <tr>\n",
              "      <th>0</th>\n",
              "      <td>0</td>\n",
              "    </tr>\n",
              "    <tr>\n",
              "      <th>1</th>\n",
              "      <td>1</td>\n",
              "    </tr>\n",
              "    <tr>\n",
              "      <th>2</th>\n",
              "      <td>0</td>\n",
              "    </tr>\n",
              "    <tr>\n",
              "      <th>3</th>\n",
              "      <td>1</td>\n",
              "    </tr>\n",
              "    <tr>\n",
              "      <th>4</th>\n",
              "      <td>1</td>\n",
              "    </tr>\n",
              "  </tbody>\n",
              "</table>\n",
              "</div>"
            ],
            "text/plain": [
              "   project_is_approved\n",
              "0                    0\n",
              "1                    1\n",
              "2                    0\n",
              "3                    1\n",
              "4                    1"
            ]
          },
          "metadata": {
            "tags": []
          },
          "execution_count": 47
        }
      ]
    },
    {
      "cell_type": "code",
      "metadata": {
        "colab_type": "code",
        "id": "5rJO_T8ivPi8",
        "colab": {}
      },
      "source": [
        "# train test split\n",
        "from sklearn.model_selection import train_test_split\n",
        "x_train, X_test, y_train, Y_test = train_test_split(X, Y, test_size=0.33, stratify=Y)\n"
      ],
      "execution_count": 49,
      "outputs": []
    },
    {
      "cell_type": "markdown",
      "metadata": {
        "colab_type": "text",
        "id": "3kB77Q00xg6l"
      },
      "source": [
        "## Converting project title and essay into TFIDF vector."
      ]
    },
    {
      "cell_type": "markdown",
      "metadata": {
        "colab_type": "text",
        "id": "X2Y67CQh63sZ"
      },
      "source": [
        "### Project Essay"
      ]
    },
    {
      "cell_type": "code",
      "metadata": {
        "colab_type": "code",
        "id": "R0JoJ21H6v-k",
        "colab": {
          "base_uri": "https://localhost:8080/",
          "height": 53
        },
        "outputId": "fbd43c71-beb7-4ea1-f473-2b103a33f9ac"
      },
      "source": [
        "from sklearn.feature_extraction.text import TfidfVectorizer\n",
        "vectorizer = TfidfVectorizer(min_df=20)\n",
        "\n",
        "vectorizer.fit(x_train['essay'].values)\n",
        "\n",
        "x_train_essay_tfidf = vectorizer.transform(x_train['essay'].values)\n",
        "X_test_essay_tfidf = vectorizer.transform(X_test['essay'].values)\n",
        "\n",
        "print(\"Shape of x_train_essay_tfidf after one hot encoding\", x_train_essay_tfidf.shape)\n",
        "print(\"Shape of X_test_essay_tfidf after one hot encoding\", X_test_essay_tfidf.shape)"
      ],
      "execution_count": 50,
      "outputs": [
        {
          "output_type": "stream",
          "text": [
            "Shape of x_train_essay_tfidf after one hot encoding (73196, 10575)\n",
            "Shape of X_test_essay_tfidf after one hot encoding (36052, 10575)\n"
          ],
          "name": "stdout"
        }
      ]
    },
    {
      "cell_type": "markdown",
      "metadata": {
        "colab_type": "text",
        "id": "CgcngH0h69B-"
      },
      "source": [
        "### Project Title"
      ]
    },
    {
      "cell_type": "code",
      "metadata": {
        "colab_type": "code",
        "id": "P9gd8IS17A0d",
        "colab": {
          "base_uri": "https://localhost:8080/",
          "height": 53
        },
        "outputId": "2c58946a-da94-4079-84fc-73199483ff3b"
      },
      "source": [
        "from sklearn.feature_extraction.text import TfidfVectorizer\n",
        "vectorizer = TfidfVectorizer(min_df=2)\n",
        "\n",
        "vectorizer.fit(x_train['project_title'].values)\n",
        "\n",
        "x_train_title_tfidf = vectorizer.transform(x_train['project_title'].values)\n",
        "X_test_title_tfidf = vectorizer.transform(X_test['project_title'].values)\n",
        "\n",
        "print(\"Shape of matrix of x_train_title_tfidf after one hot encoding \",x_train_title_tfidf.shape)\n",
        "print(\"Shape of matrix of X_test_title_tfidf after one hot encoding\", X_test_title_tfidf.shape)"
      ],
      "execution_count": 51,
      "outputs": [
        {
          "output_type": "stream",
          "text": [
            "Shape of matrix of x_train_title_tfidf after one hot encoding  (73196, 7449)\n",
            "Shape of matrix of X_test_title_tfidf after one hot encoding (36052, 7449)\n"
          ],
          "name": "stdout"
        }
      ]
    },
    {
      "cell_type": "markdown",
      "metadata": {
        "colab_type": "text",
        "id": "BnXtwF3j9u5O"
      },
      "source": [
        "## Applying BoW on the categorical features"
      ]
    },
    {
      "cell_type": "markdown",
      "metadata": {
        "colab_type": "text",
        "id": "DBmZR7cmYFQX"
      },
      "source": [
        "### teacher_prefix(applying BoW)"
      ]
    },
    {
      "cell_type": "code",
      "metadata": {
        "colab_type": "code",
        "id": "sNYIz8E2Q44f",
        "colab": {
          "base_uri": "https://localhost:8080/",
          "height": 53
        },
        "outputId": "782f041b-bf55-434f-d1f2-6ed27c02492f"
      },
      "source": [
        "#applying binary BoW on states as only 1 word will be present in whole row.\n",
        "vectorizer = CountVectorizer()\n",
        "\n",
        "vectorizer.fit(x_train['teacher_prefix'].values)\n",
        "\n",
        "x_train_prefix_bow = vectorizer.transform(x_train['teacher_prefix'].values)\n",
        "X_test_prefix_bow = vectorizer.transform(X_test['teacher_prefix'].values)\n",
        "\n",
        "print(\"Shape of x_train_prefix_bow\", x_train_prefix_bow.shape)\n",
        "print(\"Shape of X_test_prefix_bow\", X_test_prefix_bow.shape)"
      ],
      "execution_count": 52,
      "outputs": [
        {
          "output_type": "stream",
          "text": [
            "Shape of x_train_prefix_bow (73196, 5)\n",
            "Shape of X_test_prefix_bow (36052, 5)\n"
          ],
          "name": "stdout"
        }
      ]
    },
    {
      "cell_type": "markdown",
      "metadata": {
        "colab_type": "text",
        "id": "8l_N3dEbXqhk"
      },
      "source": [
        "### school_state (applying BoW)"
      ]
    },
    {
      "cell_type": "code",
      "metadata": {
        "colab_type": "code",
        "id": "ChvSlPY79bye",
        "colab": {
          "base_uri": "https://localhost:8080/",
          "height": 71
        },
        "outputId": "52df9396-24e8-4353-955c-94b52bc441ad"
      },
      "source": [
        "#applying binary BoW on states as only 1 word will be present in whole row. \n",
        "vectorizer = CountVectorizer()\n",
        "\n",
        "vectorizer.fit(x_train['school_state'].values)\n",
        "\n",
        "x_train_state_bow = vectorizer.transform(x_train['school_state'].values)\n",
        "X_test_state_bow = vectorizer.transform(X_test['school_state'].values)\n",
        "\n",
        "print(\"Shape of matrix of x_train_state_bow after one hot encoding \",x_train_state_bow.shape)\n",
        "print(\"Shape of matrix of X_test_state_bow after one hot encoding\", X_test_state_bow.shape)\n",
        "type(X_test_state_bow)"
      ],
      "execution_count": 53,
      "outputs": [
        {
          "output_type": "stream",
          "text": [
            "Shape of matrix of x_train_state_bow after one hot encoding  (73196, 51)\n",
            "Shape of matrix of X_test_state_bow after one hot encoding (36052, 51)\n"
          ],
          "name": "stdout"
        },
        {
          "output_type": "execute_result",
          "data": {
            "text/plain": [
              "scipy.sparse.csr.csr_matrix"
            ]
          },
          "metadata": {
            "tags": []
          },
          "execution_count": 53
        }
      ]
    },
    {
      "cell_type": "markdown",
      "metadata": {
        "colab_type": "text",
        "id": "vKyAcxoIYMZo"
      },
      "source": [
        "### project_grade_category"
      ]
    },
    {
      "cell_type": "code",
      "metadata": {
        "colab_type": "code",
        "id": "2SIWiSHcWeAY",
        "colab": {
          "base_uri": "https://localhost:8080/",
          "height": 53
        },
        "outputId": "d9958047-298c-49dc-d4bf-9fb1648c7903"
      },
      "source": [
        "vectorizer = CountVectorizer()\n",
        "\n",
        "vectorizer.fit(x_train['project_grade_category'].values)\n",
        "\n",
        "x_train_grade_bow = vectorizer.transform(x_train['project_grade_category'].values)\n",
        "X_test_grade_bow = vectorizer.transform(X_test['project_grade_category'].values)\n",
        "\n",
        "print(\"Shape of matrix of x_train_grade_bow after one hot encoding\", x_train_grade_bow.shape)\n",
        "print(\"Shape of matrix of X_test_grade_bow after one hot encoding\", X_test_grade_bow.shape)\n"
      ],
      "execution_count": 54,
      "outputs": [
        {
          "output_type": "stream",
          "text": [
            "Shape of matrix of x_train_grade_bow after one hot encoding (73196, 4)\n",
            "Shape of matrix of X_test_grade_bow after one hot encoding (36052, 4)\n"
          ],
          "name": "stdout"
        }
      ]
    },
    {
      "cell_type": "markdown",
      "metadata": {
        "colab_type": "text",
        "id": "t58uesp2YSJZ"
      },
      "source": [
        "### project_subject_categories"
      ]
    },
    {
      "cell_type": "code",
      "metadata": {
        "colab_type": "code",
        "id": "ZCIp3c0Ya9xc",
        "colab": {
          "base_uri": "https://localhost:8080/",
          "height": 53
        },
        "outputId": "2276d636-4e71-4d0d-c82f-b9e63bdc2eb2"
      },
      "source": [
        "vectorizer = CountVectorizer()\n",
        "\n",
        "vectorizer.fit(x_train['project_subject_categories'].values)\n",
        "\n",
        "x_train_cat_bow = vectorizer.transform(x_train['project_subject_categories'].values)\n",
        "X_test_cat_bow = vectorizer.transform(X_test['project_subject_categories'].values)\n",
        "\n",
        "print(\"Shape of matrix of x_train_cat_bow after one hot encoding\", x_train_cat_bow.shape)\n",
        "print(\"Shape of matrix of X_test_cat_bow after one hot encoding\", X_test_cat_bow.shape)\n"
      ],
      "execution_count": 55,
      "outputs": [
        {
          "output_type": "stream",
          "text": [
            "Shape of matrix of x_train_cat_bow after one hot encoding (73196, 9)\n",
            "Shape of matrix of X_test_cat_bow after one hot encoding (36052, 9)\n"
          ],
          "name": "stdout"
        }
      ]
    },
    {
      "cell_type": "markdown",
      "metadata": {
        "colab_type": "text",
        "id": "lpWGYFO3YYaR"
      },
      "source": [
        "### project_subject_subcategories"
      ]
    },
    {
      "cell_type": "code",
      "metadata": {
        "colab_type": "code",
        "id": "dmB9V6MCl40l",
        "colab": {
          "base_uri": "https://localhost:8080/",
          "height": 53
        },
        "outputId": "5f9ef0ae-88bb-41d0-9129-bf3c241d7e15"
      },
      "source": [
        "vectorizer = CountVectorizer()\n",
        "\n",
        "vectorizer.fit(x_train['project_subject_subcategories'].values)\n",
        "\n",
        "x_train_subcat_bow = vectorizer.transform(x_train['project_subject_subcategories'].values)\n",
        "X_test_subcat_bow = vectorizer.transform(X_test['project_subject_subcategories'].values)\n",
        "\n",
        "print(\"Shape of matrix of x_train_subcat_bow after one hot encoding\", x_train_subcat_bow.shape)\n",
        "print(\"Shape of matrix of X_test_subcat_bow after one hot encoding\", X_test_subcat_bow.shape)"
      ],
      "execution_count": 56,
      "outputs": [
        {
          "output_type": "stream",
          "text": [
            "Shape of matrix of x_train_subcat_bow after one hot encoding (73196, 30)\n",
            "Shape of matrix of X_test_subcat_bow after one hot encoding (36052, 30)\n"
          ],
          "name": "stdout"
        }
      ]
    },
    {
      "cell_type": "markdown",
      "metadata": {
        "colab_type": "text",
        "id": "eLhhUyqJqzbf"
      },
      "source": [
        "### teacher_number_of_previoulsy_posted_projects"
      ]
    },
    {
      "cell_type": "code",
      "metadata": {
        "colab_type": "code",
        "id": "5GTh0CIrq0Uq",
        "colab": {
          "base_uri": "https://localhost:8080/",
          "height": 53
        },
        "outputId": "a91c038b-344c-4d59-92f0-8d0762e009de"
      },
      "source": [
        "x_train_pnum = (x_train['teacher_number_of_previously_posted_projects'].values).reshape(-1,1)\n",
        "\n",
        "X_test_pnum = X_test['teacher_number_of_previously_posted_projects'].values.reshape(-1,1)\n",
        "\n",
        "print(\"Shape of matrix of x_train_pnum\", x_train_pnum.shape)\n",
        "print(\"Shape of matrix of X_test_pnum\", X_test_pnum.shape)\n"
      ],
      "execution_count": 57,
      "outputs": [
        {
          "output_type": "stream",
          "text": [
            "Shape of matrix of x_train_pnum (73196, 1)\n",
            "Shape of matrix of X_test_pnum (36052, 1)\n"
          ],
          "name": "stdout"
        }
      ]
    },
    {
      "cell_type": "markdown",
      "metadata": {
        "colab_type": "text",
        "id": "_9CqZFi-wZBA"
      },
      "source": [
        "### Price"
      ]
    },
    {
      "cell_type": "code",
      "metadata": {
        "colab_type": "code",
        "id": "e47z-79IuwBs",
        "colab": {
          "base_uri": "https://localhost:8080/",
          "height": 53
        },
        "outputId": "5fb32455-7001-4031-f609-1eec866ccabd"
      },
      "source": [
        "from sklearn.preprocessing import Normalizer\n",
        "normalizer = Normalizer()\n",
        "\n",
        "normalizer.fit(x_train['price'].values.reshape(-1,1))\n",
        "\n",
        "x_train_price = normalizer.transform(x_train['price'].values.reshape(-1,1))\n",
        "X_test_price = normalizer.transform(X_test['price'].values.reshape(-1,1))\n",
        "\n",
        "print(\"Shape of matrix of x_train_price after normalization\", x_train_price.shape)\n",
        "print(\"Shape of matrix of X_test_price after normalization\", X_test_price.shape)"
      ],
      "execution_count": 58,
      "outputs": [
        {
          "output_type": "stream",
          "text": [
            "Shape of matrix of x_train_price after normalization (73196, 1)\n",
            "Shape of matrix of X_test_price after normalization (36052, 1)\n"
          ],
          "name": "stdout"
        }
      ]
    },
    {
      "cell_type": "markdown",
      "metadata": {
        "colab_type": "text",
        "id": "1fTADpGIp8P9"
      },
      "source": [
        "## Stacking the arrays and getting final dataset for train,test"
      ]
    },
    {
      "cell_type": "code",
      "metadata": {
        "colab_type": "code",
        "id": "395pjEhIqAnT",
        "colab": {
          "base_uri": "https://localhost:8080/",
          "height": 106
        },
        "outputId": "11a133c4-62a7-4cd0-8b73-f2ee7ffed32a"
      },
      "source": [
        "from scipy.sparse import hstack\n",
        "\n",
        "Fx_train = hstack((x_train_prefix_bow, x_train_state_bow, x_train_title_tfidf, x_train_grade_bow, x_train_pnum, x_train_cat_bow, x_train_subcat_bow, x_train_essay_tfidf, x_train_price))\n",
        "\n",
        "\n",
        "FX_test = hstack((X_test_prefix_bow, X_test_state_bow, X_test_title_tfidf, X_test_grade_bow, X_test_pnum, X_test_cat_bow, X_test_subcat_bow, X_test_essay_tfidf, X_test_price))\n",
        "\n",
        "Fy_train = y_train.to_numpy()                             #y_train.to_numpy has output of only values\n",
        "FY_test = Y_test.to_numpy()\n",
        "\n",
        "print(\"Final shape of Fx_train matrix\", Fx_train.shape)        \n",
        "print(\"Final shape of FX_test matrix\", FX_test.shape)\n",
        "print(\"Final shape of Fy_train\",Fy_train.shape)                     \n",
        "print(\"Final shape of FY_test\", FY_test.shape)\n",
        "type(Fx_train)"
      ],
      "execution_count": 70,
      "outputs": [
        {
          "output_type": "stream",
          "text": [
            "Final shape of Fx_train matrix (73196, 18125)\n",
            "Final shape of FX_test matrix (36052, 18125)\n",
            "Final shape of Fy_train (73196, 1)\n",
            "Final shape of FY_test (36052, 1)\n"
          ],
          "name": "stdout"
        },
        {
          "output_type": "execute_result",
          "data": {
            "text/plain": [
              "scipy.sparse.coo.coo_matrix"
            ]
          },
          "metadata": {
            "tags": []
          },
          "execution_count": 70
        }
      ]
    },
    {
      "cell_type": "code",
      "metadata": {
        "colab_type": "code",
        "id": "zenxxelDzbSE",
        "colab": {}
      },
      "source": [
        ""
      ],
      "execution_count": 59,
      "outputs": []
    },
    {
      "cell_type": "markdown",
      "metadata": {
        "colab_type": "text",
        "id": "xqO7Oixi63KI"
      },
      "source": [
        "## Applying the Decision tree classifier "
      ]
    },
    {
      "cell_type": "code",
      "metadata": {
        "colab_type": "code",
        "id": "wkylV5TynbPS",
        "colab": {}
      },
      "source": [
        "from sklearn.metrics import roc_auc_score, accuracy_score\n",
        "from sklearn import tree\n",
        "from sklearn.model_selection import GridSearchCV\n",
        "\n",
        "\n",
        "parameter = {'max_depth':[1,5,10,50], 'min_samples_split':[5,10,100,500]}\n",
        "dt = tree.DecisionTreeClassifier(class_weight='balanced')\n",
        "\n",
        "\n",
        "grid_dt = GridSearchCV(estimator= dt, param_grid=parameter, scoring='accuracy', cv=5,)"
      ],
      "execution_count": 60,
      "outputs": []
    },
    {
      "cell_type": "code",
      "metadata": {
        "colab_type": "code",
        "id": "c4I8bqxtFpF7",
        "colab": {
          "base_uri": "https://localhost:8080/",
          "height": 356
        },
        "outputId": "08efaa5a-4521-4729-e521-2cd05630f2ab"
      },
      "source": [
        "grid_dt.fit(Fx_train, Fy_train)"
      ],
      "execution_count": 61,
      "outputs": [
        {
          "output_type": "execute_result",
          "data": {
            "text/plain": [
              "GridSearchCV(cv=5, error_score=nan,\n",
              "             estimator=DecisionTreeClassifier(ccp_alpha=0.0,\n",
              "                                              class_weight='balanced',\n",
              "                                              criterion='gini', max_depth=None,\n",
              "                                              max_features=None,\n",
              "                                              max_leaf_nodes=None,\n",
              "                                              min_impurity_decrease=0.0,\n",
              "                                              min_impurity_split=None,\n",
              "                                              min_samples_leaf=1,\n",
              "                                              min_samples_split=2,\n",
              "                                              min_weight_fraction_leaf=0.0,\n",
              "                                              presort='deprecated',\n",
              "                                              random_state=None,\n",
              "                                              splitter='best'),\n",
              "             iid='deprecated', n_jobs=None,\n",
              "             param_grid={'max_depth': [1, 5, 10, 50],\n",
              "                         'min_samples_split': [5, 10, 100, 500]},\n",
              "             pre_dispatch='2*n_jobs', refit=True, return_train_score=False,\n",
              "             scoring='accuracy', verbose=0)"
            ]
          },
          "metadata": {
            "tags": []
          },
          "execution_count": 61
        }
      ]
    },
    {
      "cell_type": "code",
      "metadata": {
        "colab_type": "code",
        "id": "_cFN_twa6_qb",
        "colab": {
          "base_uri": "https://localhost:8080/",
          "height": 35
        },
        "outputId": "f3ffe0d9-b965-4c17-ebc5-08888bf5b911"
      },
      "source": [
        "grid_dt.best_score_"
      ],
      "execution_count": 65,
      "outputs": [
        {
          "output_type": "execute_result",
          "data": {
            "text/plain": [
              "0.7520356833699336"
            ]
          },
          "metadata": {
            "tags": []
          },
          "execution_count": 65
        }
      ]
    },
    {
      "cell_type": "code",
      "metadata": {
        "id": "7L7kAfn4bP66",
        "colab_type": "code",
        "colab": {
          "base_uri": "https://localhost:8080/",
          "height": 35
        },
        "outputId": "fe738247-e791-4511-96df-df81e13c3b09"
      },
      "source": [
        "grid_dt.best_params_"
      ],
      "execution_count": 66,
      "outputs": [
        {
          "output_type": "execute_result",
          "data": {
            "text/plain": [
              "{'max_depth': 1, 'min_samples_split': 5}"
            ]
          },
          "metadata": {
            "tags": []
          },
          "execution_count": 66
        }
      ]
    },
    {
      "cell_type": "code",
      "metadata": {
        "id": "fJMDAC1WcxlU",
        "colab_type": "code",
        "colab": {}
      },
      "source": [
        "clf = tree.DecisionTreeClassifier(max_depth= 1, min_samples_split=5, class_weight='balanced')"
      ],
      "execution_count": 68,
      "outputs": []
    },
    {
      "cell_type": "code",
      "metadata": {
        "id": "EKY9T59rlDzT",
        "colab_type": "code",
        "colab": {
          "base_uri": "https://localhost:8080/",
          "height": 124
        },
        "outputId": "6b86bdd5-df94-4ed5-cf3a-90aac6264f24"
      },
      "source": [
        "clf.fit(Fx_train, Fy_train)"
      ],
      "execution_count": 69,
      "outputs": [
        {
          "output_type": "execute_result",
          "data": {
            "text/plain": [
              "DecisionTreeClassifier(ccp_alpha=0.0, class_weight='balanced', criterion='gini',\n",
              "                       max_depth=1, max_features=None, max_leaf_nodes=None,\n",
              "                       min_impurity_decrease=0.0, min_impurity_split=None,\n",
              "                       min_samples_leaf=1, min_samples_split=5,\n",
              "                       min_weight_fraction_leaf=0.0, presort='deprecated',\n",
              "                       random_state=None, splitter='best')"
            ]
          },
          "metadata": {
            "tags": []
          },
          "execution_count": 69
        }
      ]
    },
    {
      "cell_type": "code",
      "metadata": {
        "id": "NKboU0_KlIXo",
        "colab_type": "code",
        "colab": {}
      },
      "source": [
        "ypred = clf.predict(FX_test)"
      ],
      "execution_count": 71,
      "outputs": []
    },
    {
      "cell_type": "code",
      "metadata": {
        "id": "Eg8E2GpslUqM",
        "colab_type": "code",
        "colab": {
          "base_uri": "https://localhost:8080/",
          "height": 35
        },
        "outputId": "6d675d6c-39a6-4874-ee3f-c938b8a2851d"
      },
      "source": [
        "print('Accuracy in Decision tree classifier ',accuracy_score(FY_test, ypred)*100,'%')"
      ],
      "execution_count": 79,
      "outputs": [
        {
          "output_type": "stream",
          "text": [
            "Accuracy in Decision tree classifier  74.49517363807833 %\n"
          ],
          "name": "stdout"
        }
      ]
    },
    {
      "cell_type": "markdown",
      "metadata": {
        "id": "SmIb_oKGl-u_",
        "colab_type": "text"
      },
      "source": [
        "# Applying Naive Bayes Classifier"
      ]
    },
    {
      "cell_type": "code",
      "metadata": {
        "id": "zsftYu4ecxer",
        "colab_type": "code",
        "colab": {}
      },
      "source": [
        "from sklearn.naive_bayes import MultinomialNB\n",
        "\n",
        "parameter_nb = {'alpha': [0.001, 0.002, 0.005, 0.01, 0.05, 0.1, 0.3, 0.5, 0.9]}\n",
        "nb = MultinomialNB()\n",
        "\n",
        "grid_nb = GridSearchCV(estimator=nb, param_grid=parameter_nb, scoring='accuracy', cv=5)"
      ],
      "execution_count": 82,
      "outputs": []
    },
    {
      "cell_type": "code",
      "metadata": {
        "id": "oSZyAwOenbdo",
        "colab_type": "code",
        "colab": {
          "base_uri": "https://localhost:8080/",
          "height": 160
        },
        "outputId": "8174a74f-3553-47e1-c7f3-ee11c89996a9"
      },
      "source": [
        "grid_nb.fit(Fx_train, Fy_train)"
      ],
      "execution_count": 83,
      "outputs": [
        {
          "output_type": "execute_result",
          "data": {
            "text/plain": [
              "GridSearchCV(cv=5, error_score=nan,\n",
              "             estimator=MultinomialNB(alpha=1.0, class_prior=None,\n",
              "                                     fit_prior=True),\n",
              "             iid='deprecated', n_jobs=None,\n",
              "             param_grid={'alpha': [0.001, 0.002, 0.005, 0.01, 0.05, 0.1, 0.3,\n",
              "                                   0.5, 0.9]},\n",
              "             pre_dispatch='2*n_jobs', refit=True, return_train_score=False,\n",
              "             scoring='accuracy', verbose=0)"
            ]
          },
          "metadata": {
            "tags": []
          },
          "execution_count": 83
        }
      ]
    },
    {
      "cell_type": "code",
      "metadata": {
        "id": "-UJG0Km7ngec",
        "colab_type": "code",
        "colab": {
          "base_uri": "https://localhost:8080/",
          "height": 35
        },
        "outputId": "9a2454f0-54d1-4062-88b4-a9b2c31376b9"
      },
      "source": [
        "grid_nb.best_score_"
      ],
      "execution_count": 84,
      "outputs": [
        {
          "output_type": "execute_result",
          "data": {
            "text/plain": [
              "0.6089678154058867"
            ]
          },
          "metadata": {
            "tags": []
          },
          "execution_count": 84
        }
      ]
    },
    {
      "cell_type": "code",
      "metadata": {
        "id": "PAIl2RiDnj-K",
        "colab_type": "code",
        "colab": {
          "base_uri": "https://localhost:8080/",
          "height": 35
        },
        "outputId": "7bbdcc3d-ab07-41a5-f009-a97bff031925"
      },
      "source": [
        "grid_nb.best_params_"
      ],
      "execution_count": 86,
      "outputs": [
        {
          "output_type": "execute_result",
          "data": {
            "text/plain": [
              "{'alpha': 0.001}"
            ]
          },
          "metadata": {
            "tags": []
          },
          "execution_count": 86
        }
      ]
    },
    {
      "cell_type": "code",
      "metadata": {
        "colab_type": "code",
        "id": "Je1Md781oGA7",
        "colab": {}
      },
      "source": [
        "clf = MultinomialNB(alpha=0.01)"
      ],
      "execution_count": 87,
      "outputs": []
    },
    {
      "cell_type": "code",
      "metadata": {
        "colab_type": "code",
        "id": "Xv4ExV3WoGA-",
        "colab": {
          "base_uri": "https://localhost:8080/",
          "height": 35
        },
        "outputId": "537a84fd-f0c3-4531-cab3-2ddd93600f27"
      },
      "source": [
        "clf.fit(Fx_train, Fy_train)"
      ],
      "execution_count": 88,
      "outputs": [
        {
          "output_type": "execute_result",
          "data": {
            "text/plain": [
              "MultinomialNB(alpha=0.01, class_prior=None, fit_prior=True)"
            ]
          },
          "metadata": {
            "tags": []
          },
          "execution_count": 88
        }
      ]
    },
    {
      "cell_type": "code",
      "metadata": {
        "colab_type": "code",
        "id": "14mBx90NoGBC",
        "colab": {}
      },
      "source": [
        "ypred_nb = clf.predict(FX_test)"
      ],
      "execution_count": 89,
      "outputs": []
    },
    {
      "cell_type": "code",
      "metadata": {
        "colab_type": "code",
        "id": "95cNoPlJoGBE",
        "colab": {
          "base_uri": "https://localhost:8080/",
          "height": 35
        },
        "outputId": "adc03c9e-cb58-4d9e-8cd1-63c86e006973"
      },
      "source": [
        "print('Accuracy in Naive Bayes classifier ',accuracy_score(FY_test, ypred_nb)*100,'%')"
      ],
      "execution_count": 114,
      "outputs": [
        {
          "output_type": "stream",
          "text": [
            "Accuracy in Naive Bayes classifier  59.13957616775768 %\n"
          ],
          "name": "stdout"
        }
      ]
    },
    {
      "cell_type": "markdown",
      "metadata": {
        "id": "HQWifY1Zotgq",
        "colab_type": "text"
      },
      "source": [
        "# Applying Random Forest Classifier"
      ]
    },
    {
      "cell_type": "code",
      "metadata": {
        "id": "l_9dfb4XoBTf",
        "colab_type": "code",
        "colab": {}
      },
      "source": [
        "from sklearn.ensemble import RandomForestClassifier\n",
        "\n",
        "parameter_rf = {'n_estimators':[10,50,100,200], 'max_depth':[1,2,5,]}\n",
        "\n",
        "rf = RandomForestClassifier()\n",
        "\n",
        "grid_rf = GridSearchCV(estimator=rf, param_grid=parameter_rf,scoring='accuracy', cv=5)"
      ],
      "execution_count": 93,
      "outputs": []
    },
    {
      "cell_type": "code",
      "metadata": {
        "id": "DwylXiv-qBAU",
        "colab_type": "code",
        "colab": {
          "base_uri": "https://localhost:8080/",
          "height": 392
        },
        "outputId": "0510e6c7-42a8-4201-a101-4f3c45168f7e"
      },
      "source": [
        "grid_rf.fit(Fx_train, Fy_train)"
      ],
      "execution_count": 94,
      "outputs": [
        {
          "output_type": "execute_result",
          "data": {
            "text/plain": [
              "GridSearchCV(cv=5, error_score=nan,\n",
              "             estimator=RandomForestClassifier(bootstrap=True, ccp_alpha=0.0,\n",
              "                                              class_weight=None,\n",
              "                                              criterion='gini', max_depth=None,\n",
              "                                              max_features='auto',\n",
              "                                              max_leaf_nodes=None,\n",
              "                                              max_samples=None,\n",
              "                                              min_impurity_decrease=0.0,\n",
              "                                              min_impurity_split=None,\n",
              "                                              min_samples_leaf=1,\n",
              "                                              min_samples_split=2,\n",
              "                                              min_weight_fraction_leaf=0.0,\n",
              "                                              n_estimators=100, n_jobs=None,\n",
              "                                              oob_score=False,\n",
              "                                              random_state=None, verbose=0,\n",
              "                                              warm_start=False),\n",
              "             iid='deprecated', n_jobs=None,\n",
              "             param_grid={'max_depth': [1, 2, 5],\n",
              "                         'n_estimators': [10, 50, 100, 200]},\n",
              "             pre_dispatch='2*n_jobs', refit=True, return_train_score=False,\n",
              "             scoring='accuracy', verbose=0)"
            ]
          },
          "metadata": {
            "tags": []
          },
          "execution_count": 94
        }
      ]
    },
    {
      "cell_type": "code",
      "metadata": {
        "id": "rgP8lY5zqz1l",
        "colab_type": "code",
        "colab": {
          "base_uri": "https://localhost:8080/",
          "height": 35
        },
        "outputId": "eb255a66-834c-4985-e3eb-37c974c41e1d"
      },
      "source": [
        "grid_rf.best_score_"
      ],
      "execution_count": 95,
      "outputs": [
        {
          "output_type": "execute_result",
          "data": {
            "text/plain": [
              "0.8485846223707387"
            ]
          },
          "metadata": {
            "tags": []
          },
          "execution_count": 95
        }
      ]
    },
    {
      "cell_type": "code",
      "metadata": {
        "id": "cAVJcXJaq2T6",
        "colab_type": "code",
        "colab": {
          "base_uri": "https://localhost:8080/",
          "height": 35
        },
        "outputId": "91e14a0e-aac8-4df0-e38f-14a2f70757ab"
      },
      "source": [
        "grid_rf.best_params_"
      ],
      "execution_count": 96,
      "outputs": [
        {
          "output_type": "execute_result",
          "data": {
            "text/plain": [
              "{'max_depth': 1, 'n_estimators': 10}"
            ]
          },
          "metadata": {
            "tags": []
          },
          "execution_count": 96
        }
      ]
    },
    {
      "cell_type": "code",
      "metadata": {
        "colab_type": "code",
        "id": "ZgQq3UhMq81r",
        "colab": {}
      },
      "source": [
        "clf = RandomForestClassifier(max_depth= 1, n_estimators=10)"
      ],
      "execution_count": 97,
      "outputs": []
    },
    {
      "cell_type": "code",
      "metadata": {
        "colab_type": "code",
        "id": "9SF4onLxq81t",
        "colab": {
          "base_uri": "https://localhost:8080/",
          "height": 160
        },
        "outputId": "6b7eea6b-24fb-42f8-ac85-712282847991"
      },
      "source": [
        "clf.fit(Fx_train, Fy_train)"
      ],
      "execution_count": 98,
      "outputs": [
        {
          "output_type": "execute_result",
          "data": {
            "text/plain": [
              "RandomForestClassifier(bootstrap=True, ccp_alpha=0.0, class_weight=None,\n",
              "                       criterion='gini', max_depth=1, max_features='auto',\n",
              "                       max_leaf_nodes=None, max_samples=None,\n",
              "                       min_impurity_decrease=0.0, min_impurity_split=None,\n",
              "                       min_samples_leaf=1, min_samples_split=2,\n",
              "                       min_weight_fraction_leaf=0.0, n_estimators=10,\n",
              "                       n_jobs=None, oob_score=False, random_state=None,\n",
              "                       verbose=0, warm_start=False)"
            ]
          },
          "metadata": {
            "tags": []
          },
          "execution_count": 98
        }
      ]
    },
    {
      "cell_type": "code",
      "metadata": {
        "colab_type": "code",
        "id": "-r6ea9l3q81w",
        "colab": {}
      },
      "source": [
        "ypred_rf = clf.predict(FX_test)"
      ],
      "execution_count": 99,
      "outputs": []
    },
    {
      "cell_type": "code",
      "metadata": {
        "colab_type": "code",
        "id": "kACg72vMq81y",
        "colab": {
          "base_uri": "https://localhost:8080/",
          "height": 35
        },
        "outputId": "28c46ae8-34ac-48f9-a094-2254e595a6f2"
      },
      "source": [
        "print('Accuracy in Random Forest classifier ',accuracy_score(FY_test, ypred_rf)*100,'%')"
      ],
      "execution_count": 113,
      "outputs": [
        {
          "output_type": "stream",
          "text": [
            "Accuracy in Random Forest classifier  84.85798291356929 %\n"
          ],
          "name": "stdout"
        }
      ]
    },
    {
      "cell_type": "markdown",
      "metadata": {
        "id": "Mwv2D6dC8Po5",
        "colab_type": "text"
      },
      "source": [
        "# Applying K-Nearest Neighbours "
      ]
    },
    {
      "cell_type": "code",
      "metadata": {
        "id": "jWOlGbAbq5vJ",
        "colab_type": "code",
        "colab": {}
      },
      "source": [
        "from sklearn.neighbors import KNeighborsClassifier\n",
        "\n",
        "parameter_knn = {'n_neighbors':[3,5,7]}\n",
        "\n",
        "knn = KNeighborsClassifier()\n",
        "\n",
        "grid_knn = GridSearchCV(estimator=knn, param_grid=parameter_knn, scoring='accuracy',cv=5)"
      ],
      "execution_count": 104,
      "outputs": []
    },
    {
      "cell_type": "code",
      "metadata": {
        "id": "hIo8IX75q5tz",
        "colab_type": "code",
        "colab": {
          "base_uri": "https://localhost:8080/",
          "height": 196
        },
        "outputId": "37c28e9b-3e6c-41db-e80f-1162bdba90e6"
      },
      "source": [
        "grid_knn.fit(Fx_train, Fy_train)"
      ],
      "execution_count": 105,
      "outputs": [
        {
          "output_type": "execute_result",
          "data": {
            "text/plain": [
              "GridSearchCV(cv=5, error_score=nan,\n",
              "             estimator=KNeighborsClassifier(algorithm='auto', leaf_size=30,\n",
              "                                            metric='minkowski',\n",
              "                                            metric_params=None, n_jobs=None,\n",
              "                                            n_neighbors=5, p=2,\n",
              "                                            weights='uniform'),\n",
              "             iid='deprecated', n_jobs=None,\n",
              "             param_grid={'n_neighbors': [3, 5, 7]}, pre_dispatch='2*n_jobs',\n",
              "             refit=True, return_train_score=False, scoring='accuracy',\n",
              "             verbose=0)"
            ]
          },
          "metadata": {
            "tags": []
          },
          "execution_count": 105
        }
      ]
    },
    {
      "cell_type": "code",
      "metadata": {
        "id": "KG-1rYddsmfn",
        "colab_type": "code",
        "colab": {
          "base_uri": "https://localhost:8080/",
          "height": 35
        },
        "outputId": "08ebbe17-82c7-4543-c89d-118784e1825d"
      },
      "source": [
        "grid_knn.best_score_"
      ],
      "execution_count": 106,
      "outputs": [
        {
          "output_type": "execute_result",
          "data": {
            "text/plain": [
              "0.8383654626816532"
            ]
          },
          "metadata": {
            "tags": []
          },
          "execution_count": 106
        }
      ]
    },
    {
      "cell_type": "code",
      "metadata": {
        "id": "Ib45UfbXso3n",
        "colab_type": "code",
        "colab": {
          "base_uri": "https://localhost:8080/",
          "height": 35
        },
        "outputId": "92e796bd-62cf-496f-f46e-511eb66fa965"
      },
      "source": [
        "grid_knn.best_params_"
      ],
      "execution_count": 107,
      "outputs": [
        {
          "output_type": "execute_result",
          "data": {
            "text/plain": [
              "{'n_neighbors': 7}"
            ]
          },
          "metadata": {
            "tags": []
          },
          "execution_count": 107
        }
      ]
    },
    {
      "cell_type": "code",
      "metadata": {
        "colab_type": "code",
        "id": "JoGGomo5suKc",
        "colab": {}
      },
      "source": [
        "clf = KNeighborsClassifier(n_neighbors=9)"
      ],
      "execution_count": 109,
      "outputs": []
    },
    {
      "cell_type": "code",
      "metadata": {
        "colab_type": "code",
        "id": "y7KTlNhnsuKf",
        "colab": {
          "base_uri": "https://localhost:8080/",
          "height": 71
        },
        "outputId": "7b99ffaf-4255-4d0f-8d85-06fc039d7e17"
      },
      "source": [
        "clf.fit(Fx_train, Fy_train)"
      ],
      "execution_count": 110,
      "outputs": [
        {
          "output_type": "execute_result",
          "data": {
            "text/plain": [
              "KNeighborsClassifier(algorithm='auto', leaf_size=30, metric='minkowski',\n",
              "                     metric_params=None, n_jobs=None, n_neighbors=9, p=2,\n",
              "                     weights='uniform')"
            ]
          },
          "metadata": {
            "tags": []
          },
          "execution_count": 110
        }
      ]
    },
    {
      "cell_type": "code",
      "metadata": {
        "colab_type": "code",
        "id": "i3FsPaSQsuKi",
        "colab": {}
      },
      "source": [
        "ypred_knn = clf.predict(FX_test)"
      ],
      "execution_count": 111,
      "outputs": []
    },
    {
      "cell_type": "code",
      "metadata": {
        "colab_type": "code",
        "id": "Lsv7KBYVsuKk",
        "colab": {
          "base_uri": "https://localhost:8080/",
          "height": 35
        },
        "outputId": "07d1d9b4-ec92-407b-bc61-0e28fd0d0a4f"
      },
      "source": [
        "print('Accuracy in K Nearest Neighbour Classifier ',accuracy_score(FY_test, ypred_knn)*100,'%')"
      ],
      "execution_count": 112,
      "outputs": [
        {
          "output_type": "stream",
          "text": [
            "Accuracy in K Nearest Neighbour Classifier  84.34760900920892 %\n"
          ],
          "name": "stdout"
        }
      ]
    },
    {
      "cell_type": "markdown",
      "metadata": {
        "id": "CjD17zum8WTY",
        "colab_type": "text"
      },
      "source": [
        "# Comparison"
      ]
    },
    {
      "cell_type": "code",
      "metadata": {
        "id": "QgToR1tUsqrH",
        "colab_type": "code",
        "colab": {
          "base_uri": "https://localhost:8080/",
          "height": 283
        },
        "outputId": "e3d95c9e-434b-4216-fe8d-7e65ad3d2ba0"
      },
      "source": [
        "import seaborn as sns\n",
        "\n",
        "x = ['DT', 'NB', 'RF', 'KNN']\n",
        "y = [accuracy_score(FY_test,ypred), accuracy_score(FY_test,ypred_nb), \n",
        "     accuracy_score(FY_test,ypred_rf), accuracy_score(FY_test,ypred_knn)]\n",
        "\n",
        "sns.barplot(x,y, )"
      ],
      "execution_count": 125,
      "outputs": [
        {
          "output_type": "execute_result",
          "data": {
            "text/plain": [
              "<matplotlib.axes._subplots.AxesSubplot at 0x7f263f7697f0>"
            ]
          },
          "metadata": {
            "tags": []
          },
          "execution_count": 125
        },
        {
          "output_type": "display_data",
          "data": {
            "image/png": "[encoded data removed]",
            "text/plain": [
              "<Figure size 432x288 with 1 Axes>"
            ]
          },
          "metadata": {
            "tags": [],
            "needs_background": "light"
          }
        }
      ]
    },
    {
      "cell_type": "markdown",
      "metadata": {
        "id": "QJEnPICI7Glj",
        "colab_type": "text"
      },
      "source": [
        "## Random Forest and Naive Bayes performs almost same getting 85% accuracy"
      ]
    }
  ]
}